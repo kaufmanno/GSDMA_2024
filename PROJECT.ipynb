{
 "cells": [
  {
   "cell_type": "code",
   "execution_count": null,
   "id": "d5bbd66a-8f37-4861-b23b-a51cac7309c5",
   "metadata": {},
   "outputs": [],
   "source": [
    "#Import the gtfs-kit module\n",
    "import gtfs_kit as gk\n",
    "from pathlib import Path\n",
    "import pandas as pn\n",
    "import geopandas as gpn\n",
    "from geopandas import * \n",
    "import shapely\n",
    "from shapely import *\n",
    "\n",
    "#Declare the directory path for the GTFS zip file\n",
    "path = Path('/home/lubuntu/Téléchargements/TEC-GTFS.zip')\n",
    "\n",
    "#Read the feed with gtfs-kit\n",
    "feed = (gk.read_feed(path, dist_units='km'))\n",
    "\n",
    "#Search for errors and warnings in the feed\n",
    "feed.validate()"
   ]
  },
  {
   "cell_type": "code",
   "execution_count": null,
   "id": "aa905073-416c-4ca9-8848-0c32db940a15",
   "metadata": {},
   "outputs": [],
   "source": [
    "agency = pn.read_csv('/home/lubuntu/Téléchargements/GTFS/agency.txt')\n",
    "calendar = pn.read_csv('/home/lubuntu/Téléchargements/GTFS/calendar.txt')\n",
    "calendarDates = pn.read_csv('/home/lubuntu/Téléchargements/GTFS/calendar_dates.txt')\n",
    "feedInfo = pn.read_csv('/home/lubuntu/Téléchargements/GTFS/feed_info.txt')\n",
    "routes = pn.read_csv('/home/lubuntu/Téléchargements/GTFS/routes.txt')\n",
    "shapes = pn.read_csv('/home/lubuntu/Téléchargements/GTFS/shapes.txt')\n",
    "stopTimes = pn.read_csv('/home/lubuntu/Téléchargements/GTFS/stop_times.txt')\n",
    "stops = pn.read_csv('/home/lubuntu/Téléchargements/GTFS/stops.txt')\n",
    "trips = pn.read_csv('/home/lubuntu/Téléchargements/GTFS/trips.txt')"
   ]
  },
  {
   "cell_type": "code",
   "execution_count": null,
   "id": "499106dc-ef96-4ee2-af32-570a7b8560ce",
   "metadata": {
    "scrolled": true
   },
   "outputs": [],
   "source": [
    "agency"
   ]
  },
  {
   "cell_type": "code",
   "execution_count": null,
   "id": "8c53e8ec-cb94-4a5b-9d50-020c53a93017",
   "metadata": {},
   "outputs": [],
   "source": [
    "DF= gpn.GeoDataFrame(shapes,geometry=gpn.points_from_xy(shapes.shape_pt_lon, shapes.shape_pt_lat,crs=\"EPSG:4326\"))"
   ]
  },
  {
   "cell_type": "code",
   "execution_count": null,
   "id": "647c9084-5384-4185-a15c-a26b3fa00b50",
   "metadata": {},
   "outputs": [],
   "source": [
    "coords = [(3.91256643, 50.46467317),(3.97626359, 50.46490030),(3.97649593, 50.43612858),(3.91283742, 50.43590159)]"
   ]
  },
  {
   "cell_type": "code",
   "execution_count": null,
   "id": "c166297d-47ec-4ea7-a542-8f5a17a01781",
   "metadata": {},
   "outputs": [],
   "source": [
    "polygon = Polygon(coords)"
   ]
  },
  {
   "cell_type": "code",
   "execution_count": null,
   "id": "64163b1d-3542-4d9d-8c41-77a6e2b99cae",
   "metadata": {
    "scrolled": true
   },
   "outputs": [],
   "source": [
    "DF.head().explore()"
   ]
  },
  {
   "cell_type": "code",
   "execution_count": null,
   "id": "b65938c2-fde4-489a-ab8a-b12d4a693682",
   "metadata": {},
   "outputs": [],
   "source": [
    "AOI = DF.geometry.within(polygon)"
   ]
  },
  {
   "cell_type": "code",
   "execution_count": null,
   "id": "b69b2244-9a02-4946-9b50-ce3d4cc9fde2",
   "metadata": {},
   "outputs": [],
   "source": [
    "AOI.head()"
   ]
  },
  {
   "cell_type": "code",
   "execution_count": null,
   "id": "a074c55f-b3c9-4689-a7af-81c630ebc89c",
   "metadata": {},
   "outputs": [],
   "source": [
    "# Step 1: Create a bounding box as a polygon\n",
    "bbox_polygon = box(3.91200000, 50.43600000, 3.97600000, 50.46400000)\n",
    "\n",
    "# Step 2: Filter using intersects\n",
    "bbox_filtered = DF[DF.intersects(bbox_polygon)]\n",
    "\n",
    "# Now bbox_filtered contains only the geometries that intersect with the bounding box\n",
    "print(bbox_filtered)\n"
   ]
  },
  {
   "cell_type": "code",
   "execution_count": null,
   "id": "49772bac-2126-4a82-91c7-5025607ac75f",
   "metadata": {},
   "outputs": [],
   "source": [
    "bbox_filtered.explore()"
   ]
  }
 ],
 "metadata": {
  "kernelspec": {
   "display_name": "Python 3 (ipykernel)",
   "language": "python",
   "name": "python3"
  },
  "language_info": {
   "codemirror_mode": {
    "name": "ipython",
    "version": 3
   },
   "file_extension": ".py",
   "mimetype": "text/x-python",
   "name": "python",
   "nbconvert_exporter": "python",
   "pygments_lexer": "ipython3",
   "version": "3.9.18"
  }
 },
 "nbformat": 4,
 "nbformat_minor": 5
}
