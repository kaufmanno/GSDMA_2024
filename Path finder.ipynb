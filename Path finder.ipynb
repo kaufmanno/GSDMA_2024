{
 "cells": [
  {
   "cell_type": "code",
   "execution_count": null,
   "id": "aedf46e2-3bec-4115-9057-0378bfde713c",
   "metadata": {},
   "outputs": [],
   "source": [
    "import geopandas as gpd\n",
    "import geopandas as gpd\n",
    "import pandas as pd\n",
    "import numpy as np\n",
    "from pathlib import Path\n",
    "from shapely import *\n",
    "import time"
   ]
  },
  {
   "cell_type": "markdown",
   "id": "28dd06ae-afbd-4f38-b893-36dcaa63c154",
   "metadata": {},
   "source": [
    "# Importing all the GTFS files\n",
    "\n",
    "To save on the memory used, we don't import empty columns and use more efficient data types when possible\n"
   ]
  },
  {
   "cell_type": "code",
   "execution_count": null,
   "id": "bf015ba1-167d-4308-971d-896c2b6bbb30",
   "metadata": {},
   "outputs": [],
   "source": [
    "dir_GTFS= \"/home/lubuntu/GSDMA_2024/Tec GTFS\"\n",
    "print(\"Loading stops\")\n",
    "stops = pd.read_csv(dir_GTFS+\"/stops.txt\", usecols=['stop_id','stop_name','stop_lat','stop_lon','zone_id','location_type'])\n",
    "print(\"Loading stop_times\")\n",
    "stop_times = pd.read_csv(dir_GTFS+\"/stop_times.txt\", dtype={'service_id':'category',\n",
    "                                                            'pickup_type':'category',\n",
    "                                                            'drop_off_type':'category',\n",
    "                                                            'stop_sequence':'int8',\n",
    "                                                           'departure_time':'string',\n",
    "                                                           'arrival_time':'string'}\n",
    "                        )#,parse_dates=[\"arrival_time\", \"departure_time\"], date_format=\"%H:%M\")\n",
    "print(\"Loading trips\")\n",
    "trips = pd.read_csv(dir_GTFS+\"/trips.txt\", dtype={'service_id':'category',\n",
    "                                                  'trip_short_name':'category',\n",
    "                                                  'direction_id':'int8'})\n",
    "print(\"Loading shapes\")\n",
    "shapes = pd.read_csv(dir_GTFS+\"/shapes.txt\", dtype={'shape_id':'category',\n",
    "                                                    'shape_pt_sequence':'uint32'})\n",
    "print(\"Loading routes\")\n",
    "routes = pd.read_csv(dir_GTFS+\"/routes.txt\", usecols=['route_id','agency_id','route_short_name','route_long_name','route_type'],\n",
    "                    dtype={'route_type':'uint8',\n",
    "                          'agency_id':'category'})\n",
    "#print(\"Loading agency\")\n",
    "#agency = pd.read_csv(dir_GTFS+\"/agency.txt\")\n",
    "print(\"Loading calendar\")\n",
    "calendar = pd.read_csv(dir_GTFS+\"/calendar.txt\",dtype={'monday':'boolean',\n",
    "                                                      'tuesday':'boolean',\n",
    "                                                      'wednesday':'boolean',\n",
    "                                                      'thursday':'boolean',\n",
    "                                                      'friday':'boolean',\n",
    "                                                      'saturday':'boolean',\n",
    "                                                      'sunday':'boolean'},\n",
    "                      parse_dates=[\"start_date\", \"end_date\"], date_format=\"%Y%m%d\")\n",
    "#print(\"Loading calendar_dates\")\n",
    "#calendar_dates = pd.read_csv(dir_GTFS+\"/calendar_dates.txt\", dtype={'exception_type':'uint8'}, parse_dates=[\"date\"], date_format=\"%Y%m%d\")"
   ]
  },
  {
   "cell_type": "markdown",
   "id": "1029ea3e-c972-4096-9e99-d4528b0e4f5a",
   "metadata": {},
   "source": [
    "# Converting the dataframes to geodataframes\n",
    "## Stops"
   ]
  },
  {
   "cell_type": "code",
   "execution_count": null,
   "id": "eb8301e0-39fb-4567-9c3c-608384579ff3",
   "metadata": {},
   "outputs": [],
   "source": [
    "geometry=gpd.points_from_xy(stops['stop_lon'], stops['stop_lat'], z=None, crs='epsg:4326')\n",
    "geo_stops=gpd.GeoDataFrame(data=stops, geometry=geometry)\n",
    "#geo_stops.sample(n=30).plot()\n",
    "del stops"
   ]
  },
  {
   "cell_type": "markdown",
   "id": "d33e61f2-95d0-49b0-af2d-2ba7dc74457d",
   "metadata": {},
   "source": [
    "## Shapes"
   ]
  },
  {
   "cell_type": "code",
   "execution_count": null,
   "id": "8f63a1a4-e8f3-415d-ad71-c0d1251738b9",
   "metadata": {
    "scrolled": true
   },
   "outputs": [],
   "source": [
    "geometry=gpd.points_from_xy(shapes['shape_pt_lon'], shapes['shape_pt_lat'], z=None, crs='epsg:4326')\n",
    "geo_shapes=gpd.GeoDataFrame(data=shapes, geometry=geometry)\n",
    "#geo_shapes.sample(50).plot()\n",
    "del shapes"
   ]
  },
  {
   "cell_type": "code",
   "execution_count": null,
   "id": "f879eba1-18cd-4554-a985-12be71460cdf",
   "metadata": {},
   "outputs": [],
   "source": [
    "#Sort the lines by id and Sequence so they are ordered\n",
    "geo_shapes_sorted = geo_shapes.sort_values(by=['shape_id', 'shape_pt_sequence'])\n",
    "\n",
    "#Group the points by 'route'\n",
    "lines = geo_shapes_sorted.groupby('shape_id', observed=True).apply(lambda x: LineString(x.geometry.tolist()))\n",
    "lines=lines.reset_index()\n",
    "lines = gpd.GeoDataFrame(data=lines['shape_id'], geometry=lines[0], crs=geo_shapes.crs)\n",
    "#lines.sample(20).explore()\n",
    "del geo_shapes\n",
    "del geo_shapes_sorted"
   ]
  },
  {
   "cell_type": "code",
   "execution_count": null,
   "id": "21bb6a50-7cfb-484d-a9ac-0f2eadc739d8",
   "metadata": {},
   "outputs": [],
   "source": [
    "lines"
   ]
  },
  {
   "cell_type": "markdown",
   "id": "b5792b1c-1da7-4d63-87f5-1bcaec99014e",
   "metadata": {},
   "source": [
    "# Direct trips"
   ]
  },
  {
   "cell_type": "markdown",
   "id": "a3130fa8-783a-4340-9fd3-7e907d9b629c",
   "metadata": {},
   "source": [
    "Find the services corresponding to the given date"
   ]
  },
  {
   "cell_type": "code",
   "execution_count": null,
   "id": "51570160-4eeb-4547-b3c3-b31cea5cd14b",
   "metadata": {
    "scrolled": true
   },
   "outputs": [],
   "source": [
    "departure_date=\"2024-10-30\"\n",
    "pd.Timestamp(departure_date).weekday()\n",
    "week_day=pd.Timestamp(departure_date).day_name().lower()\n",
    "active_services=calendar.query(\"(start_date<=@departure_date)&(@departure_date<=end_date)\")\n",
    "active_services=active_services[active_services[week_day]]\n",
    "active_services"
   ]
  },
  {
   "cell_type": "markdown",
   "id": "c0867342-fb0e-4c9e-8254-65e0a690aa56",
   "metadata": {},
   "source": [
    "## Find the direct trips from one station to the other\n",
    "For that, find all the trips frome the departure station and the trips to the arrival station.\n",
    "Then find the trips in common"
   ]
  },
  {
   "cell_type": "code",
   "execution_count": null,
   "id": "20b86629-83fa-4cba-9507-175f32ec9920",
   "metadata": {},
   "outputs": [],
   "source": [
    "departure_time=\"16:00\"\n",
    "departure_stop_name=\"MONS Place de Flandre\"\n",
    "arrival_stop_name=\"NIMY Limite\"#\"SOIGNIES SNCB\"\n",
    "\n",
    "#Find the active services\n",
    "week_day=pd.Timestamp(departure_date).day_name().lower()\n",
    "active_services=calendar.query(\"(start_date<=@departure_date)&(@departure_date<=end_date)\")\n",
    "active_services=active_services[active_services[week_day]]\n",
    "#Extract the stops and the stop_id's\n",
    "departure_stop=geo_stops.query(\"stop_name==@departure_stop_name\")\n",
    "arrival_stop=geo_stops.query(\"stop_name==@arrival_stop_name\")\n",
    "\n",
    "departure_stop_id=departure_stop['stop_id']\n",
    "arrival_stop_id=arrival_stop['stop_id']\n",
    "#Extract the stop times\n",
    "departure_stop_times=stop_times.query(\"(stop_id.isin(@departure_stop_id))&(departure_time>@departure_time)\")\n",
    "arrival_stop_times=stop_times.query(\"stop_id.isin(@arrival_stop_id)&arrival_time>@departure_time\")\n",
    "#Find the trips linking one stop to the other\n",
    "common_trips = pd.Series(np.intersect1d(departure_stop_times['trip_id'].values,arrival_stop_times['trip_id'].values))\n",
    "#Filter the active trips\n",
    "common_active_trips = trips[(trips['trip_id'].isin(common_trips))& (trips['service_id'].isin(active_services['service_id']))]\n",
    "common_active_trips\n",
    "\n",
    "final_departure_stop_times=departure_stop_times[departure_stop_times['trip_id'].isin(common_active_trips[\"trip_id\"])].sort_values('departure_time')\n",
    "final_arrival_stop_times=arrival_stop_times[arrival_stop_times['trip_id'].isin(common_active_trips[\"trip_id\"])].sort_values('arrival_time')\n",
    "\n",
    "possible_times=pd.merge(final_departure_stop_times,final_arrival_stop_times, on='trip_id', how='inner')\n",
    "possible_times"
   ]
  },
  {
   "cell_type": "code",
   "execution_count": null,
   "id": "9a44140c-a6e5-480c-b3e4-f093df4f49a4",
   "metadata": {
    "scrolled": true
   },
   "outputs": [],
   "source": [
    "best_time=possible_times.iloc[0,:]\n",
    "ax=departure_stop.explore()\n",
    "arrival_stop.explore(m=ax)\n",
    "best_trip=trips[trips['trip_id']==best_time.trip_id]\n",
    "best_lines=lines[lines['shape_id'].isin(best_trip['shape_id'])]\n",
    "best_lines.explore(m=ax)"
   ]
  },
  {
   "cell_type": "markdown",
   "id": "cd37997a-3449-456c-be9e-b51aa07b1169",
   "metadata": {},
   "source": [
    "# Trips with transfers"
   ]
  },
  {
   "cell_type": "markdown",
   "id": "a2feab65-c65b-4fd4-9a03-f5e0c1ad7eec",
   "metadata": {},
   "source": [
    "Find the services corresponding to the given date"
   ]
  },
  {
   "cell_type": "code",
   "execution_count": null,
   "id": "f0c2d668-beb4-42bf-b58f-da4c2e120c00",
   "metadata": {
    "scrolled": true
   },
   "outputs": [],
   "source": [
    "departure_date=\"2024-10-30\"\n",
    "pd.Timestamp(departure_date).weekday()\n",
    "week_day=pd.Timestamp(departure_date).day_name().lower()\n",
    "active_services=calendar.query(\"(start_date<=@departure_date)&(@departure_date<=end_date)\")\n",
    "#active_services=active_services[active_services[week_day]]"
   ]
  },
  {
   "cell_type": "markdown",
   "id": "24072065-5a8d-430a-a6ba-8ef1ce4943df",
   "metadata": {},
   "source": [
    "## Find the trips with one transfer from one station to the other\n",
    "First naïve method:\n",
    "Find all the trips passing by the stops and check if there is one in common\n",
    "If not, list all the stops accessible by these trips and check if there is one in common\n",
    "If not \n"
   ]
  },
  {
   "cell_type": "code",
   "execution_count": null,
   "id": "a6c6f549-6d2f-4611-9123-05b788eef22e",
   "metadata": {},
   "outputs": [],
   "source": [
    "departure_time=\"10:00\"\n",
    "departure_stop_name=\"BRAINE-LE-COMTE Gare - Quai 2\"\n",
    "arrival_stop_name=\"NIVELLES Gare - Quai 3\"#\"SOIGNIES SNCB\"\n",
    "\n",
    "#Find the active services\n",
    "week_day=pd.Timestamp(departure_date).day_name().lower()\n",
    "active_services=calendar.query(\"(start_date<=@departure_date)&(@departure_date<=end_date)\")\n",
    "active_services=active_services[active_services[week_day]]\n",
    "#Extract the stops and the stop_id's\n",
    "departure_stop=geo_stops.query(\"stop_name==@departure_stop_name\")\n",
    "arrival_stop=geo_stops.query(\"stop_name==@arrival_stop_name\")\n",
    "\n",
    "departure_stop_id=departure_stop['stop_id']\n",
    "arrival_stop_id=arrival_stop['stop_id']\n",
    "#Extract the stop times\n",
    "departure_stop_times=stop_times.query(\"(stop_id.isin(@departure_stop_id))&(departure_time>@departure_time)\")\n",
    "arrival_stop_times=stop_times.query(\"stop_id.isin(@arrival_stop_id)&arrival_time>@departure_time\")\n",
    "#\n",
    "departure_trip_ids=departure_stop_times['trip_id'].values\n",
    "arrival_trip_ids=arrival_stop_times['trip_id'].values\n",
    "#Find the trips linking one stop to the other\n",
    "common_trips = pd.Series(np.intersect1d(departure_trip_ids, arrival_trip_ids))\n",
    "#Filter the active trips\n",
    "common_active_trips = trips[(trips['trip_id'].isin(common_trips))& (trips['service_id'].isin(active_services['service_id']))]\n",
    "if(common_active_trips.shape[0]<1):\n",
    "    print(\"No direct trips\")\n",
    "    print(\"Searching trips with transfers...\")\n",
    "    stop_times_linked_departure=stop_times.query(\"(trip_id.isin(@departure_trip_ids))&(departure_time>@departure_time)\")\n",
    "    stop_times_linked_arrival=stop_times.query(\"(trip_id.isin(@arrival_trip_ids))&(arrival_time>@departure_time)\")\n",
    "    stop_times_linked_departure_ids=stop_times_linked_departure['stop_id'].values\n",
    "    stop_times_linked_arrival_ids=stop_times_linked_arrival['stop_id'].values\n",
    "    common_stops = pd.Series(np.intersect1d(stop_times_linked_departure_ids, stop_times_linked_arrival_ids))\n",
    "    \n",
    "else:    \n",
    "    final_departure_stop_times=departure_stop_times[departure_stop_times['trip_id'].isin(common_active_trips[\"trip_id\"])].sort_values('departure_time')\n",
    "    final_arrival_stop_times=arrival_stop_times[arrival_stop_times['trip_id'].isin(common_active_trips[\"trip_id\"])].sort_values('arrival_time')\n",
    "    \n",
    "    possible_times=pd.merge(final_departure_stop_times,final_arrival_stop_times, on='trip_id', how='inner')\n",
    "    possible_times"
   ]
  },
  {
   "cell_type": "markdown",
   "id": "a8bfa21a-910b-4a98-b5de-90bd0786e9b7",
   "metadata": {},
   "source": [
    "## Bruteforcesque method\n"
   ]
  },
  {
   "cell_type": "markdown",
   "id": "eeee9d71-694e-49f4-8f73-1b4145fddb41",
   "metadata": {},
   "source": [
    "Some arrival and departure time are above 24 hours (Ex: 24:03:00). They indicate that the bus trip started the previous day and is still considered as active even if it is not today.\n",
    "To handle those times, the columns 'departure_time' and 'arrival_time' are not stored as datetime but as timedelta."
   ]
  },
  {
   "cell_type": "code",
   "execution_count": null,
   "id": "1f01c613-78e5-40b3-b30c-fd3e7e382c46",
   "metadata": {},
   "outputs": [],
   "source": [
    "stop_times['arrival_time']=pd.to_timedelta(stop_times['arrival_time'])\n",
    "stop_times['departure_time']=pd.to_timedelta(stop_times['departure_time'])"
   ]
  },
  {
   "cell_type": "code",
   "execution_count": null,
   "id": "222b6531-fc2f-43eb-8adc-ddeaf1d63119",
   "metadata": {},
   "outputs": [],
   "source": [
    "stop_times[stop_times['arrival_time']>pd.to_timedelta('24:00:00')]#7645 stops after midnight"
   ]
  },
  {
   "cell_type": "code",
   "execution_count": null,
   "id": "96b4c0af-2451-4e1e-ac3f-676e0dcc7e5a",
   "metadata": {},
   "outputs": [],
   "source": [
    "def compute_walk_time(A_stop, B_stop):\n",
    "    walk_speed=4#km/h\n",
    "    #For the moment, I divide the distance between them by 4km/h \n",
    "    #In the future, we will use the length of the shortest walkable path between the points \n",
    "\n",
    "    #The stops are projected in the Belgian Lambert 2008 coordinates system (crs=3812) to have accurate distances\n",
    "    if(type(B_stop)==gpd.geodataframe.GeoDataFrame):\n",
    "        B_stop=B_stop.head(1)\n",
    "        A_stop=A_stop.head(1)\n",
    "    birdfly_dist=A_stop.distance(B_stop, align=False)\n",
    "    walk_time=birdfly_dist/(1000*walk_speed/60)#walking time in minutes (float)\n",
    "    #walk_time=walk_time.mean()#If several stops have the same name, take the average of their walking distance\n",
    "    walk_time=pd.to_timedelta(walk_time,unit='min')#Converted to TimeDelta\n",
    "    return walk_time"
   ]
  },
  {
   "cell_type": "code",
   "execution_count": null,
   "id": "265b2a89-ef6a-4b47-b58d-1fa4306b5d2f",
   "metadata": {},
   "outputs": [],
   "source": [
    "walked_stop_times=pd.DataFrame(columns=stop_times.columns)\n",
    "walked_stop_times['stop_id']=geo_stops['stop_id']\n",
    "walked_stop_times['trip_id']='walking'\n",
    "walked_stop_times['arrival_time']=compute_walk_time(geo_stops.to_crs(3812), departure_stop.to_crs(3812).iloc[0].geometry)\n",
    "walked_stop_times['departure_time']=walked_stop_times['arrival_time']\n",
    "walked_stop_times"
   ]
  },
  {
   "cell_type": "code",
   "execution_count": null,
   "id": "823fefbd-e7c1-4d04-92b9-43903e04f16e",
   "metadata": {
    "editable": true,
    "slideshow": {
     "slide_type": ""
    },
    "tags": []
   },
   "outputs": [],
   "source": [
    "def find_next_stops(best_arrival_time, active_trips, active_stop_times, cur_stop_id, cur_time):\n",
    "    walk_range=1000#Max length in meters between the current stop and the other stops reached by foot\n",
    "    \n",
    "    #walk_time=compute_walk_time(arrival_stop, cur_stop)\n",
    "    #Extract trips stopping by the current bus stop that are active\n",
    "    #print(cur_time)\n",
    "    cur_stop_times=active_stop_times[((active_stop_times['stop_id'].isin(cur_stop_id))&\n",
    "                                     (active_stop_times['departure_time']>cur_time)&\n",
    "                                     (active_stop_times['departure_time']<(best_arrival_time))\n",
    "                                     #(active_stop_times[trip_id].isin(active_trips_id))\n",
    "                                      )].sort_values('departure_time')\n",
    "#    cur_stop_times=active_stop_times.query(\"(stop_id.isin(@cur_stop_id))\"\n",
    "#                                    +\"&(departure_time>@cur_time)\"\n",
    "#                                    #+\"&(trip_id.isin(@active_trips_id))\"\n",
    "#                                     ).sort_values('departure_time')\n",
    "    \n",
    "    #Extract the other stops that can be reached with the trips\n",
    "    other_stops_times=[]\n",
    "    for row in cur_stop_times.itertuples(index=False):\n",
    "        departure_seq=int(row.stop_sequence)\n",
    "        other_stops_time=active_stop_times[((active_stop_times['trip_id']==row.trip_id)\n",
    "                                      &(active_stop_times['arrival_time']<(cur_time+walk_time))\n",
    "                                      &(active_stop_times['stop_sequence']>departure_seq)\n",
    "                                     )]\n",
    "        other_stops_times.append(other_stops_time)\n",
    "        #active_stop_times=active_stop_times[~active_stop_times.eq(other_stops_time,axis=0).all(axis=1)]\n",
    "        #print(row.departure_time, end='\\r')\n",
    "\n",
    "    #Add the stops reachable by foot\n",
    "    cur_stop=geo_stops[geo_stops['stop_id'].isin(cur_stop_id)]\n",
    "    meas_geo_stops=geo_stops.to_crs(3812)\n",
    "    walked_stops=meas_geo_stops[meas_geo_stops.within(cur_stop.to_crs(3812).buffer(1000).geometry.iloc[0])]\n",
    "    walked_stop_times=pd.DataFrame(columns=stop_times.columns)\n",
    "    walked_stop_times['stop_id']=walked_stops['stop_id']\n",
    "    walked_stop_times['trip_id']='walking'\n",
    "    walked_stop_times['arrival_time']=cur_time+compute_walk_time(walked_stops, cur_stop.to_crs(3812).iloc[0].geometry)\n",
    "    walked_stop_times['departure_time']=walked_stop_times['arrival_time']\n",
    "    walked_stop_times['stop_sequence']=1\n",
    "    walked_stop_times['pickup_type']=0\n",
    "    walked_stop_times['drop_off_type']=0\n",
    "    \n",
    "    #print(walked_stop_times)\n",
    "    if(walked_stop_times.size>0):\n",
    "        other_stops_times.append(walked_stop_times)\n",
    "    \n",
    "    if(len(other_stops_times)>0):\n",
    "        other_stops_times=pd.concat(other_stops_times)\n",
    "    else:\n",
    "        print(\"No next stops found\")\n",
    "        return pd.DataFrame()\n",
    "    return other_stops_times\n",
    "def explore_node(geo_stops, active_trips, active_stop_times, found_stop_times, best_arrival_time, best_path, cur_stop_time):\n",
    "    num_trans=cur_stop_time['number_trips']+1\n",
    "    #print(cur_stop_time[['stop_id','final_arrival_time', 'intermediary_stops']])\n",
    "    num_trans=num_trans.iloc[0]\n",
    "    max_trans=6\n",
    "    if(num_trans>max_trans):\n",
    "        print(\"Max number of transfers reached\")\n",
    "        return pd.DataFrame(), best_arrival_time, best_path\n",
    "    cur_stop_id=cur_stop_time['stop_id']#pd.Series(row.stop_id)\n",
    "    cur_time=cur_stop_time['arrival_time'].iloc[0]#row.arrival_time\n",
    "    previous_stops=cur_stop_time['intermediary_stops'].iloc[0].copy()#row.intermediary_stops[:]\n",
    "    #Extract the stops directly linked to the current stop\n",
    "    #print(previous_stops)\n",
    "    other_stops_times=find_next_stops(best_arrival_time, active_trips, active_stop_times, cur_stop_id, cur_time)\n",
    "\n",
    "    if(other_stops_times.size>0):\n",
    "        #Update the path going to these stops\n",
    "        previous_stops.append(cur_stop_id.iloc[0])\n",
    "        #print(previous_stops)\n",
    "        other_stops_times['number_trips']=num_trans\n",
    "        other_stops_times['intermediary_stops']=[previous_stops] * len(other_stops_times)#TODO: also include the trips used (or walking)\n",
    "        \n",
    "        #Compute the proximity of the stops discovered from the arrival stop\n",
    "        other_stops=geo_stops.merge(other_stops_times.reset_index(), on='stop_id',how='right', )\n",
    "        new_walk_times=compute_walk_time(other_stops.to_crs(3812), arrival_stop.to_crs(3812).iloc[0].geometry)#TODO: Optimize: store arrival_stop in crs 3812\n",
    "        other_stops['final_arrival_time']=other_stops['arrival_time']+new_walk_times\n",
    "        other_stops=other_stops.set_index('index')\n",
    "        new_best_arrival_time=other_stops['final_arrival_time'].min()\n",
    "        if(new_best_arrival_time<best_arrival_time):\n",
    "            #Update the current best path\n",
    "            best_path=[previous_stops, 'w']\n",
    "            best_arrival_time=new_best_arrival_time\n",
    "\n",
    "        #TODO: Filter out the stops from which you would arrive later at the arrival stop than the best path even in bus in bird fly\n",
    "        other_stops_times['final_arrival_time']=other_stops['final_arrival_time']\n",
    "        other_stops_times=other_stops_times[other_stops_times['arrival_time']<best_arrival_time]\n",
    "    else:\n",
    "        return pd.DataFrame(), best_arrival_time, best_path\n",
    "    return other_stops_times, best_arrival_time, best_path"
   ]
  },
  {
   "cell_type": "code",
   "execution_count": null,
   "id": "c3c1b0f5-e171-4c91-9eaa-19bd7e6027c9",
   "metadata": {},
   "outputs": [],
   "source": [
    "geo_stops[geo_stops['stop_name'].str.contains('Kennedy')].iloc[0:10]"
   ]
  },
  {
   "cell_type": "code",
   "execution_count": null,
   "id": "6f58c07c-cfb1-4cc0-b129-26c7b53532b6",
   "metadata": {
    "scrolled": true
   },
   "outputs": [],
   "source": [
    "departure_date=\"2024-11-05\"\n",
    "departure_time=\"08:00:00\"\n",
    "departure_stop_name=\"MONS Lycée\"#\"MONS Place de Flandre\"#\n",
    "arrival_stop_name=\"SOIGNIES Place du Jeu de Balle\"\n",
    "\n",
    "start_time = time.time()\n",
    "#Extract the stops and the stop_id's\n",
    "departure_stop=geo_stops.query(\"stop_name==@departure_stop_name\")\n",
    "arrival_stop=geo_stops.query(\"stop_name==@arrival_stop_name\")\n",
    "\n",
    "arrival_stop_id=arrival_stop['stop_id']\n",
    "departure_stop_id=departure_stop['stop_id']\n",
    "\n",
    "#The walking time between the departure and the arrival is computed\n",
    "walk_time=compute_walk_time(departure_stop.to_crs(3812), arrival_stop.to_crs(3812))\n",
    "walk_time=walk_time.mean()\n",
    "\n",
    "departure_time=pd.to_timedelta(departure_time)\n",
    "best_arrival_time=departure_time+walk_time\n",
    "print(f\"First arrival time: {best_arrival_time}\")\n",
    "best_path=['w']\n",
    "\n",
    "#Find the schedule of the day\n",
    "week_day=pd.Timestamp(departure_date).day_name().lower()\n",
    "active_services=calendar.query(\"(start_date<=@departure_date)&(@departure_date<=end_date)\")\n",
    "active_services=active_services[active_services[week_day]]\n",
    "active_trips=trips[trips['service_id'].isin(active_services['service_id'])]\n",
    "active_trips_id=active_trips['trip_id']\n",
    "active_stop_times=stop_times[stop_times['trip_id'].isin(active_trips_id)]\n",
    "active_stop_times=active_stop_times[active_stop_times['arrival_time']<best_arrival_time]\n",
    "\n",
    "#Find the stoptimes of the departure stop\n",
    "found_stop_times=active_stop_times[((active_stop_times['stop_id'].isin(departure_stop_id))&\n",
    "                                     (active_stop_times['departure_time']>departure_time)&\n",
    "                                     (active_stop_times['departure_time']<(best_arrival_time))\n",
    "                                     #(active_stop_times[trip_id].isin(active_trips_id))\n",
    "                                      )].sort_values('departure_time')\n",
    "#TODO: Add other stops within walkable distance\n",
    "\n",
    "#print(found_stop_times)\n",
    "found_stop_times['number_trips']=0\n",
    "found_stop_times.loc[:, \"intermediary_stops\"] = np.array([['']] * len(found_stop_times))\n",
    "found_stop_times['final_arrival_time']=best_arrival_time\n",
    "\n",
    "other_stops_times=find_next_stops(best_arrival_time, active_trips, active_stop_times, departure_stop_id, departure_time)\n",
    "\n",
    "found_stop_times['explored']=True\n",
    "other_stops_times['number_trips']=1\n",
    "other_stops_times.loc[:, \"intermediary_stops\"] = [[departure_stop_id.iloc[0]]] * len(other_stops_times) #other_stops_times['intermediary_stops']=''\n",
    "#TODO: Add other stops within walkable distance\n",
    "other_stops_times=other_stops_times.sort_values('arrival_time').drop_duplicates('stop_id')#We keep only the earliest arrival time to a stop.\n",
    "other_stops_times['explored']=False\n",
    "\n",
    "#Compare the walking time from the new stops\n",
    "other_stops=geo_stops.merge(other_stops_times.reset_index(), on='stop_id',how='right', )\n",
    "new_walk_times=compute_walk_time(other_stops.to_crs(3812), arrival_stop.to_crs(3812).iloc[0].geometry)\n",
    "other_stops['final_arrival_time']=other_stops['arrival_time']+new_walk_times\n",
    "other_stops=other_stops.set_index('index')\n",
    "new_best_arrival_time=other_stops['final_arrival_time'].min()\n",
    "if(new_best_arrival_time<best_arrival_time):\n",
    "    print(f\"New best arrival time: {new_best_arrival_time}\")\n",
    "    best_path=[(departure_stop_id.iloc[0], 'w')]\n",
    "    best_arrival_time=new_best_arrival_time\n",
    "    #Drop the scheduled stops later than the current best arrival time \n",
    "    active_stop_times=active_stop_times[active_stop_times['arrival_time']<best_arrival_time]\n",
    "\n",
    "other_stops_times['final_arrival_time']=other_stops['final_arrival_time']\n",
    "found_stop_times=pd.concat([found_stop_times,other_stops_times])\n",
    "found_stop_times=found_stop_times.sort_values('arrival_time').drop_duplicates('stop_id')#We keep only the earliest arrival time to a stop.\n",
    "found_stop_times=found_stop_times.sort_values('final_arrival_time')\n",
    "\n",
    "new_stop_times=found_stop_times[found_stop_times['explored']==False]#The found stops not already explored\n",
    "\n",
    "\n",
    "while(new_stop_times.size>0):\n",
    "    new_stop_times=found_stop_times[found_stop_times['explored']==False]#The found stops not already explored\n",
    "    cur_stop_time=new_stop_times.iloc[0:1,:]\n",
    "\n",
    "    other_stops_times, new_best_arrival_time, new_best_path=explore_node(geo_stops, active_trips, active_stop_times, found_stop_times, best_arrival_time, best_path, cur_stop_time)\n",
    "    other_stops_times['explored']=False\n",
    "    found_stop_times.loc[cur_stop_time.index,'explored']=True\n",
    "\n",
    "    #Drop the scheduled stops later than the current best arrival time\n",
    "    if(new_best_arrival_time<best_arrival_time):\n",
    "        print(f\"New best arrival time: {new_best_arrival_time}\")\n",
    "        best_arrival_time=new_best_arrival_time\n",
    "        best_path=new_best_path\n",
    "        active_stop_times=active_stop_times[active_stop_times['arrival_time']<best_arrival_time]\n",
    "        found_stop_times=found_stop_times[found_stop_times['arrival_time']<best_arrival_time]\n",
    "\n",
    "    found_stop_times=pd.concat([found_stop_times,other_stops_times])\n",
    "    found_stop_times=found_stop_times.sort_values('arrival_time')\n",
    "    found_stop_times=found_stop_times.drop_duplicates('stop_id')#We keep only the earliest arrival time to a stop.\n",
    "    found_stop_times=found_stop_times.sort_values('final_arrival_time')\n",
    "    new_stop_times=found_stop_times[found_stop_times['explored']==False]#The found stops not already explored\n",
    "    print(f\"{found_stop_times.shape[0]-new_stop_times.shape[0]}/{found_stop_times.shape[0]}\")\n",
    "end_time = time.time()\n",
    "print(f\"Best arrival time:{best_arrival_time}\")\n",
    "print(f\"Best path:{best_path}\")\n",
    "print(f\"It took {end_time-start_time} seconds to compute\")"
   ]
  },
  {
   "cell_type": "code",
   "execution_count": null,
   "id": "7d1e28f4-930f-41ed-868e-94325793af65",
   "metadata": {},
   "outputs": [],
   "source": [
    "found_stop_times"
   ]
  },
  {
   "cell_type": "code",
   "execution_count": null,
   "id": "53884a5d-4d8d-49a6-afab-69d4d53d8948",
   "metadata": {},
   "outputs": [],
   "source": [
    "found_stop_times['departure_time']=found_stop_times['departure_time'].apply(lambda x: x.total_seconds())\n",
    "found_stop_times['final_arrival_time']=found_stop_times['final_arrival_time'].apply(lambda x: x.total_seconds())\n",
    "found_stop_times['arrival_time']=found_stop_times['arrival_time'].apply(lambda x: x.total_seconds())"
   ]
  },
  {
   "cell_type": "code",
   "execution_count": null,
   "id": "c023b0d4-9238-421e-824b-405d8fbad445",
   "metadata": {},
   "outputs": [],
   "source": [
    "geo_stops.merge(found_stop_times, how='right').sort_values('final_arrival_time').explore(column='final_arrival_time')"
   ]
  }
 ],
 "metadata": {
  "kernelspec": {
   "display_name": "Python 3 (ipykernel)",
   "language": "python",
   "name": "python3"
  },
  "language_info": {
   "codemirror_mode": {
    "name": "ipython",
    "version": 3
   },
   "file_extension": ".py",
   "mimetype": "text/x-python",
   "name": "python",
   "nbconvert_exporter": "python",
   "pygments_lexer": "ipython3",
   "version": "3.9.18"
  }
 },
 "nbformat": 4,
 "nbformat_minor": 5
}
