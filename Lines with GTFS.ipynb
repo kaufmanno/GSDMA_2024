{
 "cells": [
  {
   "cell_type": "markdown",
   "id": "d6b78ff6-a560-4eac-a89e-c93b59edc6a7",
   "metadata": {},
   "source": [
    "# Importing packets and Stablishing a PATH to the GTFS.zip"
   ]
  },
  {
   "cell_type": "code",
   "execution_count": null,
   "id": "5b02d1f9-46d9-4a4b-91cc-cbb53050ed2b",
   "metadata": {},
   "outputs": [],
   "source": [
    "#Import the gtfs-kit module\n",
    "import gtfs_kit as gk\n",
    "from pathlib import Path\n",
    "import pandas as pd\n",
    "import geopandas as gpd\n",
    "from geopandas import * \n",
    "import shapely\n",
    "from shapely import *\n",
    "import matplotlib.pyplot as plt\n"
   ]
  },
  {
   "cell_type": "code",
   "execution_count": null,
   "id": "76e9dd04-86a1-400e-ad50-d5cf0b48f799",
   "metadata": {},
   "outputs": [],
   "source": [
    "\n",
    "#Declare the directory path for the GTFS zip file\n",
    "path = Path('/home/lubuntu/Téléchargements/TEC-GTFS.zip')\n",
    "\n",
    "#Read the feed with gtfs-kit\n",
    "feed = (gk.read_feed(path, dist_units='km'))\n",
    "\n",
    "#Search for errors and warnings in the feed\n",
    "feed.validate()"
   ]
  },
  {
   "cell_type": "markdown",
   "id": "4e70c134-9e42-45fd-b938-bd8fc9ae4557",
   "metadata": {},
   "source": [
    "# Line Graphing with GTFS shapes\n",
    "\n",
    "This notebook intends to present a solution to create the lines of buses whit the points provided by the GTFS datastructure, first we will be working inside a Boundry Box with the following coordinates\n",
    "    - (3.91256643, 50.46467317),(3.97626359, 50.46490030),(3.97649593, 50.43612858),(3.91283742, 50.43590159)"
   ]
  },
  {
   "cell_type": "code",
   "execution_count": null,
   "id": "538bd570-ac18-42f7-891a-eef923d5221b",
   "metadata": {},
   "outputs": [],
   "source": [
    "coords = [(3.91256643, 50.46467317),(3.97626359, 50.46490030),(3.97649593, 50.43612858),(3.91283742, 50.43590159)]\n",
    "polygon = shapely.Polygon(coords)\n",
    "aoi_dict={'geometry':[polygon], 'id':[0]}"
   ]
  },
  {
   "cell_type": "code",
   "execution_count": null,
   "id": "57539752-7307-4e79-96c8-1b04f5833e3b",
   "metadata": {},
   "outputs": [],
   "source": [
    "gdf=gpd.GeoDataFrame.from_dict(aoi_dict, geometry='geometry', crs='EPSG:4326')\n",
    "#gdf.to_file('dataframe.geojson', driver='GeoJSON')\n",
    "#gdf.to_file('dataframe_pkg.gpkg', driver='GPKG', layer='name') "
   ]
  },
  {
   "cell_type": "markdown",
   "id": "693a40c2-d156-4c9f-95ac-12fe2ed5adfd",
   "metadata": {},
   "source": [
    "# Getting the data\n",
    "\n",
    "We tell the GTFS file what information we want to get in this case the routes table"
   ]
  },
  {
   "cell_type": "code",
   "execution_count": null,
   "id": "52fa6c71-f79a-476b-af90-19d9fbf54fcd",
   "metadata": {},
   "outputs": [],
   "source": [
    "shapes = pd.read_csv('/home/lubuntu/Téléchargements/GTFS/shapes.txt')\n",
    "trips = pd.read_csv('/home/lubuntu/Téléchargements/GTFS/trips.txt')"
   ]
  },
  {
   "cell_type": "markdown",
   "id": "df7d657c-2776-4dda-89c0-fdef7e309ae9",
   "metadata": {},
   "source": [
    "Now we create a gdf with all the points from the **GTFS** and then proceed to **filter** the points that are within the bounding box mentioned earlier"
   ]
  },
  {
   "cell_type": "code",
   "execution_count": null,
   "id": "6fc44056-1bb1-4294-bc8e-3c7fde591328",
   "metadata": {},
   "outputs": [],
   "source": [
    "trips"
   ]
  },
  {
   "cell_type": "markdown",
   "id": "bb65985e-448b-489f-a882-e6e47532d1ed",
   "metadata": {},
   "source": [
    "### Creating Dataframes\n",
    "Now that we have everything we need we create a GeoDataFrame with the id and pointsm also we filter them to just work within the bounding box for processing limitations\n"
   ]
  },
  {
   "cell_type": "code",
   "execution_count": null,
   "id": "5c578299-8c42-4d61-b3a4-4659a8419565",
   "metadata": {},
   "outputs": [],
   "source": [
    "#Creating dataframe\n",
    "gdf= gpd.GeoDataFrame(shapes,geometry=gpd.points_from_xy(shapes.shape_pt_lon, shapes.shape_pt_lat,crs=\"EPSG:4326\"))\n",
    "trips_reduced = trips[['shape_id', 'route_id']]\n",
    "\n",
    "#Applying filter of bounding box\n",
    "aoi = gdf.geometry.within(polygon)\n",
    "#Turning the geolist into a usable geodataframe\n",
    "gdf = gdf[aoi]"
   ]
  },
  {
   "cell_type": "code",
   "execution_count": null,
   "id": "ebe1dc69-b973-4c39-8ef0-f9018d67b94a",
   "metadata": {},
   "outputs": [],
   "source": [
    "gdf"
   ]
  },
  {
   "cell_type": "markdown",
   "id": "f86d3058-40b9-4367-b1e9-20857c65778c",
   "metadata": {},
   "source": [
    "### Sorting things up\n",
    "Finally we sort the points by their shape id and in order indicated by **shape_pt_sequence** then we group them making \"blocks\" by the **shapes_id** and make lines to form every single form. and finally turn the result into a geodataframe called **lines_gdf**"
   ]
  },
  {
   "cell_type": "code",
   "execution_count": null,
   "id": "616a7970-9569-4355-ae4e-72656dfc63d0",
   "metadata": {},
   "outputs": [],
   "source": [
    "#Sort the lines by id and Sequence so they are ordered\n",
    "gdf_sorted = gdf.sort_values(by=['shape_id', 'shape_pt_sequence'])\n",
    "\n",
    "#Group the points by 'route'\n",
    "lines = gdf_sorted.groupby('shape_id').apply(lambda x: LineString(x.geometry.tolist()))\n",
    "\n",
    "#WIP of LINES\n",
    "#routes = gdf_to_change.groupby('route_id').apply\n",
    "\n",
    "#Turning the results into a gdf\n",
    "lines_gdf = gpd.GeoDataFrame(geometry=lines, crs=gdf.crs).reset_index()"
   ]
  },
  {
   "cell_type": "markdown",
   "id": "a17e5a35-5f7d-4a1e-b2f2-0644d0185287",
   "metadata": {},
   "source": [
    "Finally we merge the shapes and routes gdf into a final one so we can plot correctly the routes instead of every shape we had"
   ]
  },
  {
   "cell_type": "code",
   "execution_count": null,
   "id": "db05371d-82fe-40ab-992d-e47508167b79",
   "metadata": {},
   "outputs": [],
   "source": [
    "routes = lines_gdf.merge(trips_reduced, on='shape_id', how='left')"
   ]
  },
  {
   "cell_type": "code",
   "execution_count": null,
   "id": "2bfe161d-ce5d-4b73-89ef-6aff5136a4f1",
   "metadata": {},
   "outputs": [],
   "source": [
    "routes"
   ]
  },
  {
   "cell_type": "code",
   "execution_count": null,
   "id": "0f0fafb6-4e80-48f7-8ea4-1e9157f791b8",
   "metadata": {},
   "outputs": [],
   "source": [
    "routes.plot('route_id')"
   ]
  },
  {
   "cell_type": "code",
   "execution_count": null,
   "id": "7d28c13e-6e67-411d-8e54-2723de7d3dcf",
   "metadata": {},
   "outputs": [],
   "source": [
    "routes.explore('route_id')"
   ]
  },
  {
   "cell_type": "markdown",
   "id": "74e50982-41bc-4398-ac44-ee0c5d74f2b3",
   "metadata": {},
   "source": [
    "# Conclusions\n",
    "Finally this notebook will allow us to work in any bounding box we decide and graph the lines and routes that are within the area, providing us with a geodataframe we can use"
   ]
  },
  {
   "cell_type": "code",
   "execution_count": null,
   "id": "a9f1c464-8cf4-43d8-8372-f5bfbc43f94b",
   "metadata": {},
   "outputs": [],
   "source": []
  }
 ],
 "metadata": {
  "kernelspec": {
   "display_name": "Python 3 (ipykernel)",
   "language": "python",
   "name": "python3"
  },
  "language_info": {
   "codemirror_mode": {
    "name": "ipython",
    "version": 3
   },
   "file_extension": ".py",
   "mimetype": "text/x-python",
   "name": "python",
   "nbconvert_exporter": "python",
   "pygments_lexer": "ipython3",
   "version": "3.9.18"
  }
 },
 "nbformat": 4,
 "nbformat_minor": 5
}
