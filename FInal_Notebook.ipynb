{
 "cells": [
  {
   "cell_type": "markdown",
   "id": "3ae2b4d3-bb6a-4391-8828-3f203a5707bc",
   "metadata": {},
   "source": [
    "Librarys to use"
   ]
  },
  {
   "cell_type": "code",
   "execution_count": null,
   "id": "1e2e97e8-e6f5-4ed7-9b63-35630bbb8163",
   "metadata": {},
   "outputs": [],
   "source": [
    "import osmnx as ox\n",
    "import networkx as nx\n",
    "import matplotlib.pyplot as plt\n",
    "import folium\n",
    "import gtfs_kit as gk\n",
    "import pandas as pd\n",
    "import geopandas as gpd\n",
    "from shapely.geometry import Point\n",
    "import folium"
   ]
  },
  {
   "cell_type": "markdown",
   "id": "23ae8051-84c1-419a-974d-0dba5d08a758",
   "metadata": {},
   "source": [
    "General configurations"
   ]
  },
  {
   "cell_type": "code",
   "execution_count": null,
   "id": "7e38d7e4-1d6a-409f-a69e-9010b63ed8f6",
   "metadata": {},
   "outputs": [],
   "source": [
    "# Ensure the OSMnx settings are optimized for your needs\n",
    "ox.settings.use_cache = True\n",
    "ox.settings.log_console = True\n"
   ]
  },
  {
   "cell_type": "markdown",
   "id": "74dfd500-0438-4a7f-89f5-a2aa587aa729",
   "metadata": {},
   "source": [
    "Functions"
   ]
  },
  {
   "cell_type": "code",
   "execution_count": null,
   "id": "f343bf95-6705-4cde-8512-8d08685bbe62",
   "metadata": {},
   "outputs": [],
   "source": [
    "def filter_bus_stops(gtfs_stops_file, center_point, radius=3000):\n",
    "    \"\"\"\n",
    "    Load GTFS stops and filter those within a radius of the starting point.\n",
    "    \"\"\"\n",
    "    # Load bus stops from GTFS stops.txt\n",
    "    stops = pd.read_csv(gtfs_stops_file)\n",
    "    stops_gdf = gpd.GeoDataFrame(\n",
    "        stops,\n",
    "        geometry=gpd.points_from_xy(stops.stop_lon, stops.stop_lat),\n",
    "        crs=\"EPSG:4326\",\n",
    "    )\n",
    "    \n",
    "    # Create a GeoDataFrame for the center point\n",
    "    center_gdf = gpd.GeoDataFrame(\n",
    "        {\"geometry\": [Point(center_point[1], center_point[0])]},\n",
    "        crs=\"EPSG:4326\",\n",
    "    )\n",
    "    \n",
    "    # Buffer around the center point (in meters)\n",
    "    center_buffer = center_gdf.to_crs(epsg=3812).buffer(radius).to_crs(epsg=4326)#4326\n",
    "    \n",
    "    # Filter stops within the buffer\n",
    "    filtered_stops = stops_gdf[stops_gdf.geometry.within(center_buffer.iloc[0])]\n",
    "    \n",
    "    return filtered_stops"
   ]
  },
  {
   "cell_type": "code",
   "execution_count": null,
   "id": "882d32d9-9e3a-4022-a908-828665d70470",
   "metadata": {},
   "outputs": [],
   "source": [
    "# 2. Calculate shortest paths to bus stops\n",
    "def calculate_shortest_paths_to_stops(graph, start_point, bus_stops):\n",
    "    \"\"\"\n",
    "    Calculate shortest paths from the start point to each bus stop.\n",
    "    \"\"\"\n",
    "    start_node = ox.distance.nearest_nodes(graph, start_point[1], start_point[0])\n",
    "    paths = []\n",
    "\n",
    "    for _, stop in bus_stops.iterrows():\n",
    "        stop_coords = (stop.geometry.y, stop.geometry.x)\n",
    "        stop_node = ox.distance.nearest_nodes(graph, stop_coords[1], stop_coords[0])\n",
    "        try:\n",
    "            shortest_path = nx.shortest_path(graph, source=start_node, target=stop_node, weight=\"length\")\n",
    "            path_length = sum(nx.get_edge_attributes(graph, \"length\").get((shortest_path[i], shortest_path[i+1], 0), 0) for i in range(len(shortest_path) - 1))\n",
    "            paths.append({\"stop_id\": stop.stop_id, \"path\": shortest_path, \"length\": path_length,\"stop_point\":stop_node})\n",
    "            #print(f\"The length of the shortest path is {path_length:.2f} meters.\")\n",
    "        except nx.NetworkXNoPath:\n",
    "            # Skip if there's no path\n",
    "            continue\n",
    "    \n",
    "    return paths"
   ]
  },
  {
   "cell_type": "code",
   "execution_count": null,
   "id": "00e3e50e-8350-4946-a1d2-00b22c471494",
   "metadata": {},
   "outputs": [],
   "source": [
    "# 3. Plot the star graph\n",
    "def plot_star_graph(graph, start_point, paths, bus_stops):\n",
    "    \"\"\"\n",
    "    Plot the graph with shortest paths to bus stops.\n",
    "    \"\"\"\n",
    "    \n",
    "    # Initialize a folium map centered at the start point\n",
    "    m = folium.Map(location=start_point, zoom_start=14)\n",
    "    \n",
    "    # Add the graph edges to the map\n",
    "    for u, v, data in graph.edges(data=True):\n",
    "        if \"geometry\" in data:\n",
    "            coords = [(lat, lon) for lon, lat in data[\"geometry\"].coords]\n",
    "        else:\n",
    "            coords = [(graph.nodes[u][\"y\"], graph.nodes[u][\"x\"]), (graph.nodes[v][\"y\"], graph.nodes[v][\"x\"])]\n",
    "        folium.PolyLine(coords, color=\"gray\", weight=1).add_to(m)\n",
    "    \n",
    "    # Add the start point marker\n",
    "    folium.Marker(location=start_point, popup=\"Start\", icon=folium.Icon(color=\"green\")).add_to(m)\n",
    "    \n",
    "    # Add bus stops and paths\n",
    "    for path_info in paths:\n",
    "        stop_id = path_info[\"stop_id\"]\n",
    "        path = path_info[\"path\"]\n",
    "        stop = bus_stops[bus_stops.stop_id == stop_id].iloc[0]\n",
    "        \n",
    "        # Add path to map\n",
    "        path_coords = [(graph.nodes[node][\"y\"], graph.nodes[node][\"x\"]) for node in path]\n",
    "        folium.PolyLine(path_coords, color=\"red\", weight=2).add_to(m)\n",
    "        \n",
    "        # Add bus stop marker\n",
    "        stop_coords = (stop.geometry.y, stop.geometry.x)\n",
    "        folium.Marker(location=stop_coords, popup=f\"Stop ID: {stop_id}\", icon=folium.Icon(color=\"blue\")).add_to(m)\n",
    "    \n",
    "    # Return the map\n",
    "    return m"
   ]
  },
  {
   "cell_type": "code",
   "execution_count": null,
   "id": "5f2c7191-6743-4355-af22-9a661498aaf2",
   "metadata": {},
   "outputs": [],
   "source": [
    "def create_gdf_with_paths(graph, start_point, paths, bus_stops):\n",
    "    \"\"\"\n",
    "    Create a GeoDataFrame with the start point, bus stops, and paths.\n",
    "    \"\"\"\n",
    "    # Start point as a geometry\n",
    "    start_point_geom = Point(start_point[1], start_point[0])\n",
    "    \n",
    "    # Create a list of all nodes (start point + bus stops)\n",
    "    all_nodes = [start_point_geom]\n",
    "    all_paths = []\n",
    "\n",
    "    for path_info in paths:\n",
    "        stop_id = path_info[\"stop_id\"]\n",
    "        path = path_info[\"path\"]\n",
    "        stop_point = path_info[\"stop_point\"]  # Correctly access stop_point\n",
    "\n",
    "        # Create the path geometries (connecting the nodes)\n",
    "        path_coords = [(graph.nodes[node][\"x\"], graph.nodes[node][\"y\"]) for node in path]\n",
    "        for coords in path_coords:\n",
    "            all_nodes.append(Point(coords))\n",
    "\n",
    "        # Add the stop point to the nodes list\n",
    "        all_nodes.append(stop_point)\n",
    "    \n",
    "    # Create a GeoDataFrame with the 'geometry' column\n",
    "    gdf_nodes = gpd.GeoDataFrame(\n",
    "        {'geometry': all_nodes}\n",
    "    )\n",
    "    \n",
    "    # Set the CRS to 'EPSG:4326' after geometry is assigned\n",
    "    gdf_nodes.set_crs(\"EPSG:4326\", allow_override=True, inplace=True)\n",
    "    \n",
    "    # Add the type of node (start, path, stop)\n",
    "    gdf_nodes['type'] = ['start'] + ['path'] * (len(all_nodes) - 2) + ['stop']\n",
    "    \n",
    "    return gdf_nodes\n"
   ]
  },
  {
   "cell_type": "markdown",
   "id": "7349040b-51c1-425f-acac-8ceddf6f7f74",
   "metadata": {},
   "source": [
    "Main process"
   ]
  },
  {
   "cell_type": "code",
   "execution_count": null,
   "id": "cccc75db-5115-4c1b-b92c-6b4dc37334c2",
   "metadata": {},
   "outputs": [],
   "source": [
    "# Def/home/lubuntu/.local/share/jupyter/runtimeine the starting location\n",
    "location_start = \"Mons, Belgium\"\n",
    "radius = 5000  # For graph creation\n",
    "bus_stop_radius = 3000  # For filtering stops\n",
    "    \n",
    "# Path to GTFS stops.txt file\n",
    "gtfs_stops_file = '/home/lubuntu/Téléchargements/GTFS/stops.txt' # Replace with your GTFS file path\n",
    "    \n",
    "# Get the center point\n",
    "start_point = ox.geocode(location_start)\n",
    "    \n",
    "# Create the graph\n",
    "graph = ox.graph_from_point(start_point, dist=radius, network_type=\"walk\")\n",
    "    \n",
    "# Filter bus stops within the specified radius\n",
    "filtered_stops = filter_bus_stops(gtfs_stops_file, start_point, radius=bus_stop_radius)\n",
    "    \n",
    "# Calculate shortest paths to bus stops\n",
    "paths = calculate_shortest_paths_to_stops(graph, start_point, filtered_stops)\n",
    "    \n",
    "# Plot the star graph\n",
    "star_map = plot_star_graph(graph, start_point, paths, filtered_stops)\n",
    "#star_map.save(\"star_graph_map.html\")\n",
    "star_map"
   ]
  },
  {
   "cell_type": "code",
   "execution_count": null,
   "id": "fdb5ad07-e6ea-4317-89e7-5e77fa1e4599",
   "metadata": {},
   "outputs": [],
   "source": []
  }
 ],
 "metadata": {
  "kernelspec": {
   "display_name": "Python 3 (ipykernel)",
   "language": "python",
   "name": "python3"
  },
  "language_info": {
   "codemirror_mode": {
    "name": "ipython",
    "version": 3
   },
   "file_extension": ".py",
   "mimetype": "text/x-python",
   "name": "python",
   "nbconvert_exporter": "python",
   "pygments_lexer": "ipython3",
   "version": "3.9.18"
  }
 },
 "nbformat": 4,
 "nbformat_minor": 5
}
