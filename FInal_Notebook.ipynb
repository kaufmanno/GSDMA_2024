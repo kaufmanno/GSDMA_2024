{
 "cells": [
  {
   "cell_type": "markdown",
   "id": "3ae2b4d3-bb6a-4391-8828-3f203a5707bc",
   "metadata": {},
   "source": [
    "Librarys to use"
   ]
  },
  {
   "cell_type": "code",
   "execution_count": 41,
   "id": "1e2e97e8-e6f5-4ed7-9b63-35630bbb8163",
   "metadata": {},
   "outputs": [],
   "source": [
    "import osmnx as ox\n",
    "import networkx as nx\n",
    "import matplotlib.pyplot as plt\n",
    "import folium\n",
    "import gtfs_kit as gk\n",
    "import pandas as pd\n",
    "import geopandas as gpd\n",
    "from shapely.geometry import Point, LineString\n",
    "import folium\n",
    "from pathlib import Path\n",
    "import time\n",
    "import numpy as np"
   ]
  },
  {
   "cell_type": "markdown",
   "id": "23ae8051-84c1-419a-974d-0dba5d08a758",
   "metadata": {},
   "source": [
    "General configurations"
   ]
  },
  {
   "cell_type": "code",
   "execution_count": 11,
   "id": "7e38d7e4-1d6a-409f-a69e-9010b63ed8f6",
   "metadata": {},
   "outputs": [],
   "source": [
    "# Ensure the OSMnx settings are optimized for your needs\n",
    "ox.settings.use_cache = True\n",
    "ox.settings.log_console = True\n"
   ]
  },
  {
   "cell_type": "markdown",
   "id": "28758e9f-46ed-4ea9-999a-e941a31a4a20",
   "metadata": {},
   "source": [
    "# Importing all the GTFS files\n",
    "\n",
    "To save on the memory used, we don't import empty columns and use more efficient data types when possible.\n",
    "\n",
    "Some arrival and departure time are above 24 hours (Ex: 24:03:00). They indicate that the bus trip started the previous day and is still considered as active even if it is not today.\n",
    "To handle those times, the columns 'departure_time' and 'arrival_time' are not stored as datetime but as timedelta."
   ]
  },
  {
   "cell_type": "code",
   "execution_count": 33,
   "id": "24ea1ad2-0b66-4c28-b255-86dd7d379b1a",
   "metadata": {},
   "outputs": [
    {
     "name": "stdout",
     "output_type": "stream",
     "text": [
      "Loading stops\n",
      "Loading stop_times\n",
      "Loading trips\n",
      "Loading shapes\n",
      "Loading routes\n",
      "Loading calendar\n"
     ]
    }
   ],
   "source": [
    "dir_GTFS= \"/home/lubuntu/GSDMA_2024/Tec GTFS\"\n",
    "print(\"Loading stops\")\n",
    "stops = pd.read_csv(dir_GTFS+\"/stops.txt\", usecols=['stop_id','stop_name','stop_lat','stop_lon','zone_id','location_type'])\n",
    "print(\"Loading stop_times\")\n",
    "stop_times = pd.read_csv(dir_GTFS+\"/stop_times.txt\", dtype={'service_id':'category',\n",
    "                                                            'pickup_type':'category',\n",
    "                                                            'drop_off_type':'category',\n",
    "                                                            'stop_sequence':'int8',\n",
    "                                                           'departure_time':'string',\n",
    "                                                           'arrival_time':'string'}\n",
    "                        )#,parse_dates=[\"arrival_time\", \"departure_time\"], date_format=\"%H:%M\")\n",
    "stop_times['arrival_time']=pd.to_timedelta(stop_times['arrival_time'])\n",
    "stop_times['departure_time']=pd.to_timedelta(stop_times['departure_time'])\n",
    "\n",
    "print(\"Loading trips\")\n",
    "trips = pd.read_csv(dir_GTFS+\"/trips.txt\", dtype={'service_id':'category',\n",
    "                                                  'trip_short_name':'category',\n",
    "                                                  'direction_id':'int8'})\n",
    "print(\"Loading shapes\")\n",
    "shapes = pd.read_csv(dir_GTFS+\"/shapes.txt\", dtype={'shape_id':'category',\n",
    "                                                    'shape_pt_sequence':'uint32'})\n",
    "print(\"Loading routes\")\n",
    "routes = pd.read_csv(dir_GTFS+\"/routes.txt\", usecols=['route_id','agency_id','route_short_name','route_long_name','route_type'],\n",
    "                    dtype={'route_type':'uint8',\n",
    "                          'agency_id':'category'})\n",
    "#print(\"Loading agency\")\n",
    "#agency = pd.read_csv(dir_GTFS+\"/agency.txt\")\n",
    "print(\"Loading calendar\")\n",
    "calendar = pd.read_csv(dir_GTFS+\"/calendar.txt\",dtype={'monday':'boolean',\n",
    "                                                      'tuesday':'boolean',\n",
    "                                                      'wednesday':'boolean',\n",
    "                                                      'thursday':'boolean',\n",
    "                                                      'friday':'boolean',\n",
    "                                                      'saturday':'boolean',\n",
    "                                                      'sunday':'boolean'},\n",
    "                      parse_dates=[\"start_date\", \"end_date\"], date_format=\"%Y%m%d\")\n",
    "#print(\"Loading calendar_dates\")\n",
    "#calendar_dates = pd.read_csv(dir_GTFS+\"/calendar_dates.txt\", dtype={'exception_type':'uint8'}, parse_dates=[\"date\"], date_format=\"%Y%m%d\")"
   ]
  },
  {
   "cell_type": "code",
   "execution_count": null,
   "id": "d2479065-fd31-4b8f-b0a7-7c4086c93d18",
   "metadata": {},
   "outputs": [],
   "source": [
    "stop_times[stop_times['arrival_time']>pd.to_timedelta('24:00:00')]#7645 stops after midnight"
   ]
  },
  {
   "cell_type": "markdown",
   "id": "b5e8ac7b-14d6-4a6c-b8bd-bcfe5197f8d7",
   "metadata": {},
   "source": [
    "# Converting the dataframes to geodataframes\n",
    "## Stops"
   ]
  },
  {
   "cell_type": "code",
   "execution_count": 13,
   "id": "bb481e4e-7967-4ad9-b105-cf20d1936063",
   "metadata": {},
   "outputs": [],
   "source": [
    "geometry=gpd.points_from_xy(stops['stop_lon'], stops['stop_lat'], z=None, crs='epsg:4326')\n",
    "geo_stops=gpd.GeoDataFrame(data=stops, geometry=geometry)\n",
    "#geo_stops.sample(n=30).plot()\n",
    "del stops"
   ]
  },
  {
   "cell_type": "markdown",
   "id": "18752648-5254-4968-81e0-eaac7542802d",
   "metadata": {},
   "source": [
    "## Shapes"
   ]
  },
  {
   "cell_type": "code",
   "execution_count": 14,
   "id": "1ceb75ca-81d3-4ca1-8cca-3c88558448b5",
   "metadata": {
    "scrolled": true
   },
   "outputs": [],
   "source": [
    "geometry=gpd.points_from_xy(shapes['shape_pt_lon'], shapes['shape_pt_lat'], z=None, crs='epsg:4326')\n",
    "geo_shapes=gpd.GeoDataFrame(data=shapes, geometry=geometry)\n",
    "#geo_shapes.sample(50).plot()\n",
    "del shapes"
   ]
  },
  {
   "cell_type": "code",
   "execution_count": 17,
   "id": "5bba8b97-fdfd-407a-a430-ea4022314eca",
   "metadata": {},
   "outputs": [
    {
     "name": "stderr",
     "output_type": "stream",
     "text": [
      "/tmp/ipykernel_23870/1013893770.py:5: DeprecationWarning: DataFrameGroupBy.apply operated on the grouping columns. This behavior is deprecated, and in a future version of pandas the grouping columns will be excluded from the operation. Either pass `include_groups=False` to exclude the groupings or explicitly select the grouping columns after groupby to silence this warning.\n",
      "  lines = geo_shapes_sorted.groupby('shape_id', observed=True).apply(lambda x: LineString(x.geometry.tolist()))\n"
     ]
    }
   ],
   "source": [
    "#Sort the lines by id and Sequence so they are ordered\n",
    "geo_shapes_sorted = geo_shapes.sort_values(by=['shape_id', 'shape_pt_sequence'])\n",
    "\n",
    "#Group the points by 'route'\n",
    "lines = geo_shapes_sorted.groupby('shape_id', observed=True).apply(lambda x: LineString(x.geometry.tolist()))\n",
    "lines=lines.reset_index()\n",
    "lines = gpd.GeoDataFrame(data=lines['shape_id'], geometry=lines[0], crs=geo_shapes.crs)\n",
    "#lines.sample(20).explore()\n",
    "del geo_shapes\n",
    "del geo_shapes_sorted"
   ]
  },
  {
   "cell_type": "markdown",
   "id": "001ffe3e-98ae-4aa3-9901-57c16f4f4e42",
   "metadata": {},
   "source": [
    "# Functions"
   ]
  },
  {
   "cell_type": "code",
   "execution_count": 38,
   "id": "f343bf95-6705-4cde-8512-8d08685bbe62",
   "metadata": {},
   "outputs": [],
   "source": [
    "def filter_bus_stops(geo_stops, center_gdf, radius=3000):\n",
    "    \"\"\"\n",
    "   Filter the bus stops within a given radius of the starting point.\n",
    "    \"\"\"\n",
    "    \n",
    "    # Buffer around the center point (in meters)\n",
    "    center_buffer = center_gdf.to_crs(epsg=3812).buffer(radius).to_crs(epsg=4326)#4326\n",
    "    \n",
    "    # Filter stops within the buffer\n",
    "    filtered_stops = geo_stops[geo_stops.geometry.within(center_buffer.iloc[0])]\n",
    "    \n",
    "    return filtered_stops"
   ]
  },
  {
   "cell_type": "code",
   "execution_count": 24,
   "id": "882d32d9-9e3a-4022-a908-828665d70470",
   "metadata": {},
   "outputs": [],
   "source": [
    "# 2. Calculate shortest paths to bus stops\n",
    "def calculate_shortest_paths_to_stops(graph, start_point, bus_stops):\n",
    "    \"\"\"\n",
    "    Calculate shortest paths from the start point to each bus stop.\n",
    "    \"\"\"\n",
    "    start_node = ox.distance.nearest_nodes(graph, start_point[1], start_point[0])\n",
    "    paths = []\n",
    "\n",
    "    for _, stop in bus_stops.iterrows():\n",
    "        stop_coords = (stop.geometry.y, stop.geometry.x)\n",
    "        stop_node = ox.distance.nearest_nodes(graph, stop_coords[1], stop_coords[0])\n",
    "        try:\n",
    "            shortest_path = nx.shortest_path(graph, source=start_node, target=stop_node, weight=\"length\")\n",
    "            path_length = sum(nx.get_edge_attributes(graph, \"length\").get((shortest_path[i], shortest_path[i+1], 0), 0) for i in range(len(shortest_path) - 1))\n",
    "            paths.append({\"stop_id\": stop.stop_id, \"path\": shortest_path, \"length\": path_length,\"stop_point\":stop_node})\n",
    "            #print(f\"The length of the shortest path is {path_length:.2f} meters.\")\n",
    "        except nx.NetworkXNoPath:\n",
    "            # Skip if there's no path\n",
    "            continue\n",
    "    \n",
    "    return paths"
   ]
  },
  {
   "cell_type": "code",
   "execution_count": 25,
   "id": "00e3e50e-8350-4946-a1d2-00b22c471494",
   "metadata": {},
   "outputs": [],
   "source": [
    "# 3. Plot the star graph\n",
    "def plot_star_graph(graph, start_point, paths, bus_stops):\n",
    "    \"\"\"\n",
    "    Plot the graph with shortest paths to bus stops.\n",
    "    \"\"\"\n",
    "    \n",
    "    # Initialize a folium map centered at the start point\n",
    "    m = folium.Map(location=start_point, zoom_start=14)\n",
    "    \n",
    "    # Add the graph edges to the map\n",
    "    for u, v, data in graph.edges(data=True):\n",
    "        if \"geometry\" in data:\n",
    "            coords = [(lat, lon) for lon, lat in data[\"geometry\"].coords]\n",
    "        else:\n",
    "            coords = [(graph.nodes[u][\"y\"], graph.nodes[u][\"x\"]), (graph.nodes[v][\"y\"], graph.nodes[v][\"x\"])]\n",
    "        folium.PolyLine(coords, color=\"gray\", weight=1).add_to(m)\n",
    "    \n",
    "    # Add the start point marker\n",
    "    folium.Marker(location=start_point, popup=\"Start\", icon=folium.Icon(color=\"green\")).add_to(m)\n",
    "    \n",
    "    # Add bus stops and paths\n",
    "    for path_info in paths:\n",
    "        stop_id = path_info[\"stop_id\"]\n",
    "        path = path_info[\"path\"]\n",
    "        stop = bus_stops[bus_stops.stop_id == stop_id].iloc[0]\n",
    "        \n",
    "        # Add path to map\n",
    "        path_coords = [(graph.nodes[node][\"y\"], graph.nodes[node][\"x\"]) for node in path]\n",
    "        folium.PolyLine(path_coords, color=\"red\", weight=2).add_to(m)\n",
    "        \n",
    "        # Add bus stop marker\n",
    "        stop_coords = (stop.geometry.y, stop.geometry.x)\n",
    "        folium.Marker(location=stop_coords, popup=f\"Stop ID: {stop_id}\", icon=folium.Icon(color=\"blue\")).add_to(m)\n",
    "    \n",
    "    # Return the map\n",
    "    return m"
   ]
  },
  {
   "cell_type": "code",
   "execution_count": 26,
   "id": "5f2c7191-6743-4355-af22-9a661498aaf2",
   "metadata": {},
   "outputs": [],
   "source": [
    "def create_gdf_with_paths(graph, start_point, paths, bus_stops):\n",
    "    \"\"\"\n",
    "    Create a GeoDataFrame with the start point, bus stops, and paths.\n",
    "    \"\"\"\n",
    "    # Start point as a geometry\n",
    "    start_point_geom = Point(start_point[1], start_point[0])\n",
    "    \n",
    "    # Create a list of all nodes (start point + bus stops)\n",
    "    all_nodes = [start_point_geom]\n",
    "    all_paths = []\n",
    "\n",
    "    for path_info in paths:\n",
    "        stop_id = path_info[\"stop_id\"]\n",
    "        path = path_info[\"path\"]\n",
    "        stop_point = path_info[\"stop_point\"]  # Correctly access stop_point\n",
    "\n",
    "        # Create the path geometries (connecting the nodes)\n",
    "        path_coords = [(graph.nodes[node][\"x\"], graph.nodes[node][\"y\"]) for node in path]\n",
    "        for coords in path_coords:\n",
    "            all_nodes.append(Point(coords))\n",
    "\n",
    "        # Add the stop point to the nodes list\n",
    "        all_nodes.append(stop_point)\n",
    "    \n",
    "    # Create a GeoDataFrame with the 'geometry' column\n",
    "    gdf_nodes = gpd.GeoDataFrame(\n",
    "        {'geometry': all_nodes}\n",
    "    )\n",
    "    \n",
    "    # Set the CRS to 'EPSG:4326' after geometry is assigned\n",
    "    gdf_nodes.set_crs(\"EPSG:4326\", allow_override=True, inplace=True)\n",
    "    \n",
    "    # Add the type of node (start, path, stop)\n",
    "    gdf_nodes['type'] = ['start'] + ['path'] * (len(all_nodes) - 2) + ['stop']\n",
    "    \n",
    "    return gdf_nodes\n"
   ]
  },
  {
   "cell_type": "code",
   "execution_count": 29,
   "id": "bff98200-9135-4633-bb97-17d7e43addb8",
   "metadata": {},
   "outputs": [],
   "source": [
    "def compute_walk_time(A_stop, B_stop):\n",
    "    walk_speed=4#km/h\n",
    "    #For the moment, I divide the distance between them by 4km/h \n",
    "    #In the future, we will use the length of the shortest walkable path between the points \n",
    "\n",
    "    #The stops are projected in the Belgian Lambert 2008 coordinates system (crs=3812) to have accurate distances\n",
    "    if(type(B_stop)==gpd.geodataframe.GeoDataFrame):\n",
    "        B_stop=B_stop.head(1)\n",
    "        A_stop=A_stop.head(1)\n",
    "    birdfly_dist=A_stop.distance(B_stop, align=False)\n",
    "    walk_time=birdfly_dist/(1000*walk_speed/60)#walking time in minutes (float)\n",
    "    #walk_time=walk_time.mean()#If several stops have the same name, take the average of their walking distance\n",
    "    walk_time=pd.to_timedelta(walk_time,unit='min')#Converted to TimeDelta\n",
    "    return walk_time"
   ]
  },
  {
   "cell_type": "code",
   "execution_count": 30,
   "id": "83545854-01b1-48b9-9cbd-7eba4bc60510",
   "metadata": {},
   "outputs": [],
   "source": [
    "def find_next_stops(best_arrival_time, active_trips, active_stop_times, cur_stop_id, cur_time):\n",
    "    walk_range=1000#Max length in meters between the current stop and the other stops reached by foot\n",
    "    \n",
    "    #walk_time=compute_walk_time(arrival_stop, cur_stop)\n",
    "    #Extract trips stopping by the current bus stop that are active\n",
    "    #print(cur_time)\n",
    "    cur_stop_times=active_stop_times[((active_stop_times['stop_id'].isin(cur_stop_id))&\n",
    "                                     (active_stop_times['departure_time']>cur_time)&\n",
    "                                     (active_stop_times['departure_time']<(best_arrival_time))\n",
    "                                     #(active_stop_times[trip_id].isin(active_trips_id))\n",
    "                                      )].sort_values('departure_time')\n",
    "#    cur_stop_times=active_stop_times.query(\"(stop_id.isin(@cur_stop_id))\"\n",
    "#                                    +\"&(departure_time>@cur_time)\"\n",
    "#                                    #+\"&(trip_id.isin(@active_trips_id))\"\n",
    "#                                     ).sort_values('departure_time')\n",
    "    \n",
    "    #Extract the other stops that can be reached with the trips\n",
    "    other_stops_times=[]\n",
    "    for row in cur_stop_times.itertuples(index=False):\n",
    "        departure_seq=int(row.stop_sequence)\n",
    "        other_stops_time=active_stop_times[((active_stop_times['trip_id']==row.trip_id)\n",
    "                                      &(active_stop_times['arrival_time']<(cur_time+walk_time))\n",
    "                                      &(active_stop_times['stop_sequence']>departure_seq)\n",
    "                                     )]\n",
    "        other_stops_times.append(other_stops_time)\n",
    "        #active_stop_times=active_stop_times[~active_stop_times.eq(other_stops_time,axis=0).all(axis=1)]\n",
    "        #print(row.departure_time, end='\\r')\n",
    "\n",
    "    #Add the stops reachable by foot\n",
    "    cur_stop=geo_stops[geo_stops['stop_id'].isin(cur_stop_id)]\n",
    "    meas_geo_stops=geo_stops.to_crs(3812)\n",
    "    walked_stops=meas_geo_stops[meas_geo_stops.within(cur_stop.to_crs(3812).buffer(1000).geometry.iloc[0])]\n",
    "    walked_stop_times=pd.DataFrame(columns=stop_times.columns)\n",
    "    walked_stop_times['stop_id']=walked_stops['stop_id']\n",
    "    walked_stop_times['trip_id']='walking'\n",
    "    walked_stop_times['arrival_time']=cur_time+compute_walk_time(walked_stops, cur_stop.to_crs(3812).iloc[0].geometry)\n",
    "    walked_stop_times['departure_time']=walked_stop_times['arrival_time']\n",
    "    walked_stop_times['stop_sequence']=1\n",
    "    walked_stop_times['pickup_type']=0\n",
    "    walked_stop_times['drop_off_type']=0\n",
    "    \n",
    "    #print(walked_stop_times)\n",
    "    if(walked_stop_times.size>0):\n",
    "        other_stops_times.append(walked_stop_times)\n",
    "    \n",
    "    if(len(other_stops_times)>0):\n",
    "        other_stops_times=pd.concat(other_stops_times)\n",
    "    else:\n",
    "        print(\"No next stops found\")\n",
    "        return pd.DataFrame()\n",
    "    return other_stops_times"
   ]
  },
  {
   "cell_type": "code",
   "execution_count": 63,
   "id": "ba41394a-1669-4133-8517-c63a3157be21",
   "metadata": {
    "editable": true,
    "slideshow": {
     "slide_type": ""
    },
    "tags": []
   },
   "outputs": [],
   "source": [
    "def explore_node(geo_stops, active_trips, active_stop_times, found_stop_times, best_arrival_time, best_path, cur_stop_time):\n",
    "    num_trans=cur_stop_time['number_trips']+1\n",
    "    #print(cur_stop_time[['stop_id','final_arrival_time', 'intermediary_stops']])\n",
    "    num_trans=num_trans.iloc[0]\n",
    "    max_trans=6\n",
    "    if(num_trans>max_trans):\n",
    "        print(\"Max number of transfers reached\")\n",
    "        return pd.DataFrame(), best_arrival_time, best_path\n",
    "    cur_stop_id=cur_stop_time['stop_id']#pd.Series(row.stop_id)\n",
    "    cur_time=cur_stop_time['arrival_time'].iloc[0]#row.arrival_time\n",
    "    \n",
    "    #Extract the stops directly linked to the current stop\n",
    "    #print(previous_stops)\n",
    "    other_stops_times=find_next_stops(best_arrival_time, active_trips, active_stop_times, cur_stop_id, cur_time)\n",
    "\n",
    "    if(other_stops_times.size>0):\n",
    "        \n",
    "        #print(previous_stops)\n",
    "        other_stops_times['number_trips']=num_trans\n",
    "        for i in range(other_stops_times.shape[0]):\n",
    "            stop_time=other_stops_times.iloc[i]\n",
    "            #Update the path going to these stops\n",
    "            previous_stops=cur_stop_time.loc[:,'intermediary_stops'].iloc[0].copy()#row.intermediary_stops[:]\n",
    "            previous_stops.append((cur_stop_id.iloc[0], stop_time['trip_id']))\n",
    "            other_stops_times.loc[:,'intermediary_stops'].iloc[i]=previous_stops#TODO: also include the trips used (or walking)\n",
    "        \n",
    "        #Compute the proximity of the stops discovered from the arrival stop\n",
    "        other_stops=geo_stops.merge(other_stops_times.reset_index(), on='stop_id',how='right', )\n",
    "        new_walk_times=compute_walk_time(other_stops.to_crs(3812), arrival_stop.to_crs(3812).iloc[0].geometry)#TODO: Optimize: store arrival_stop in crs 3812\n",
    "        other_stops['final_arrival_time']=other_stops['arrival_time']+new_walk_times\n",
    "        other_stops=other_stops.set_index('index')\n",
    "        new_best_arrival_time=other_stops['final_arrival_time'].min()\n",
    "        if(new_best_arrival_time<best_arrival_time):\n",
    "            #Update the current best path\n",
    "            best_path=[previous_stops, 'w']\n",
    "            best_arrival_time=new_best_arrival_time\n",
    "\n",
    "        #TODO: Filter out the stops from which you would arrive later at the arrival stop than the best path even in bus in bird fly\n",
    "        other_stops_times['final_arrival_time']=other_stops['final_arrival_time']\n",
    "        other_stops_times=other_stops_times[other_stops_times['arrival_time']<best_arrival_time]\n",
    "    else:\n",
    "        return pd.DataFrame(), best_arrival_time, best_path\n",
    "    return other_stops_times, best_arrival_time, best_path"
   ]
  },
  {
   "cell_type": "markdown",
   "id": "7349040b-51c1-425f-acac-8ceddf6f7f74",
   "metadata": {},
   "source": [
    "# Main process"
   ]
  },
  {
   "cell_type": "markdown",
   "id": "50a05d6d-a930-47b1-b26a-687435884fdd",
   "metadata": {
    "jp-MarkdownHeadingCollapsed": true
   },
   "source": [
    "## Graph of the shortest walkable paths"
   ]
  },
  {
   "cell_type": "code",
   "execution_count": 37,
   "id": "cccc75db-5115-4c1b-b92c-6b4dc37334c2",
   "metadata": {
    "scrolled": true
   },
   "outputs": [
    {
     "name": "stderr",
     "output_type": "stream",
     "text": [
      "/home/lubuntu/.local/share/virtualenvs/GSDMA_2024-IfVh60CW/lib/python3.9/site-packages/osmnx/graph.py:191: FutureWarning: The expected order of coordinates in `bbox` will change in the v2.0.0 release to `(left, bottom, right, top)`.\n",
      "  G = graph_from_bbox(\n"
     ]
    },
    {
     "name": "stdout",
     "output_type": "stream",
     "text": [
      "Graph created\n"
     ]
    },
    {
     "ename": "KeyError",
     "evalue": "1",
     "output_type": "error",
     "traceback": [
      "\u001b[0;31m---------------------------------------------------------------------------\u001b[0m",
      "\u001b[0;31mKeyError\u001b[0m                                  Traceback (most recent call last)",
      "File \u001b[0;32m~/.local/share/virtualenvs/GSDMA_2024-IfVh60CW/lib/python3.9/site-packages/pandas/core/indexes/base.py:3805\u001b[0m, in \u001b[0;36mIndex.get_loc\u001b[0;34m(self, key)\u001b[0m\n\u001b[1;32m   3804\u001b[0m \u001b[38;5;28;01mtry\u001b[39;00m:\n\u001b[0;32m-> 3805\u001b[0m     \u001b[38;5;28;01mreturn\u001b[39;00m \u001b[38;5;28;43mself\u001b[39;49m\u001b[38;5;241;43m.\u001b[39;49m\u001b[43m_engine\u001b[49m\u001b[38;5;241;43m.\u001b[39;49m\u001b[43mget_loc\u001b[49m\u001b[43m(\u001b[49m\u001b[43mcasted_key\u001b[49m\u001b[43m)\u001b[49m\n\u001b[1;32m   3806\u001b[0m \u001b[38;5;28;01mexcept\u001b[39;00m \u001b[38;5;167;01mKeyError\u001b[39;00m \u001b[38;5;28;01mas\u001b[39;00m err:\n",
      "File \u001b[0;32mindex.pyx:167\u001b[0m, in \u001b[0;36mpandas._libs.index.IndexEngine.get_loc\u001b[0;34m()\u001b[0m\n",
      "File \u001b[0;32mindex.pyx:196\u001b[0m, in \u001b[0;36mpandas._libs.index.IndexEngine.get_loc\u001b[0;34m()\u001b[0m\n",
      "File \u001b[0;32mpandas/_libs/hashtable_class_helper.pxi:7081\u001b[0m, in \u001b[0;36mpandas._libs.hashtable.PyObjectHashTable.get_item\u001b[0;34m()\u001b[0m\n",
      "File \u001b[0;32mpandas/_libs/hashtable_class_helper.pxi:7089\u001b[0m, in \u001b[0;36mpandas._libs.hashtable.PyObjectHashTable.get_item\u001b[0;34m()\u001b[0m\n",
      "\u001b[0;31mKeyError\u001b[0m: 1",
      "\nThe above exception was the direct cause of the following exception:\n",
      "\u001b[0;31mKeyError\u001b[0m                                  Traceback (most recent call last)",
      "Cell \u001b[0;32mIn[37], line 24\u001b[0m\n\u001b[1;32m     22\u001b[0m \u001b[38;5;28mprint\u001b[39m(\u001b[38;5;124m\"\u001b[39m\u001b[38;5;124mGraph created\u001b[39m\u001b[38;5;124m\"\u001b[39m)\n\u001b[1;32m     23\u001b[0m \u001b[38;5;66;03m# Filter bus stops within the specified radius\u001b[39;00m\n\u001b[0;32m---> 24\u001b[0m filtered_stops \u001b[38;5;241m=\u001b[39m \u001b[43mfilter_bus_stops\u001b[49m\u001b[43m(\u001b[49m\u001b[43mgeo_stops\u001b[49m\u001b[43m,\u001b[49m\u001b[43m \u001b[49m\u001b[43mstart_gdf\u001b[49m\u001b[43m,\u001b[49m\u001b[43m \u001b[49m\u001b[43mradius\u001b[49m\u001b[38;5;241;43m=\u001b[39;49m\u001b[43mbus_stop_radius\u001b[49m\u001b[43m)\u001b[49m\n\u001b[1;32m     25\u001b[0m \u001b[38;5;28mprint\u001b[39m(\u001b[38;5;124m\"\u001b[39m\u001b[38;5;124mBus stops retrieved\u001b[39m\u001b[38;5;124m\"\u001b[39m)\n\u001b[1;32m     26\u001b[0m \u001b[38;5;66;03m# Calculate shortest paths to bus stops\u001b[39;00m\n",
      "Cell \u001b[0;32mIn[23], line 8\u001b[0m, in \u001b[0;36mfilter_bus_stops\u001b[0;34m(geo_stops, center_point, radius)\u001b[0m\n\u001b[1;32m      2\u001b[0m \u001b[38;5;250m \u001b[39m\u001b[38;5;124;03m\"\"\"\u001b[39;00m\n\u001b[1;32m      3\u001b[0m \u001b[38;5;124;03mFilter the bus stops within a given radius of the starting point.\u001b[39;00m\n\u001b[1;32m      4\u001b[0m \u001b[38;5;124;03m \"\"\"\u001b[39;00m\n\u001b[1;32m      6\u001b[0m  \u001b[38;5;66;03m# Create a GeoDataFrame for the center point\u001b[39;00m\n\u001b[1;32m      7\u001b[0m  center_gdf \u001b[38;5;241m=\u001b[39m gpd\u001b[38;5;241m.\u001b[39mGeoDataFrame(\n\u001b[0;32m----> 8\u001b[0m      {\u001b[38;5;124m\"\u001b[39m\u001b[38;5;124mgeometry\u001b[39m\u001b[38;5;124m\"\u001b[39m: [Point(\u001b[43mcenter_point\u001b[49m\u001b[43m[\u001b[49m\u001b[38;5;241;43m1\u001b[39;49m\u001b[43m]\u001b[49m, center_point[\u001b[38;5;241m0\u001b[39m])]},\n\u001b[1;32m      9\u001b[0m      crs\u001b[38;5;241m=\u001b[39m\u001b[38;5;124m\"\u001b[39m\u001b[38;5;124mEPSG:4326\u001b[39m\u001b[38;5;124m\"\u001b[39m,\n\u001b[1;32m     10\u001b[0m  )\n\u001b[1;32m     12\u001b[0m  \u001b[38;5;66;03m# Buffer around the center point (in meters)\u001b[39;00m\n\u001b[1;32m     13\u001b[0m  center_buffer \u001b[38;5;241m=\u001b[39m center_gdf\u001b[38;5;241m.\u001b[39mto_crs(epsg\u001b[38;5;241m=\u001b[39m\u001b[38;5;241m3812\u001b[39m)\u001b[38;5;241m.\u001b[39mbuffer(radius)\u001b[38;5;241m.\u001b[39mto_crs(epsg\u001b[38;5;241m=\u001b[39m\u001b[38;5;241m4326\u001b[39m)\u001b[38;5;66;03m#4326\u001b[39;00m\n",
      "File \u001b[0;32m~/.local/share/virtualenvs/GSDMA_2024-IfVh60CW/lib/python3.9/site-packages/geopandas/geodataframe.py:1459\u001b[0m, in \u001b[0;36mGeoDataFrame.__getitem__\u001b[0;34m(self, key)\u001b[0m\n\u001b[1;32m   1453\u001b[0m \u001b[38;5;28;01mdef\u001b[39;00m \u001b[38;5;21m__getitem__\u001b[39m(\u001b[38;5;28mself\u001b[39m, key):\n\u001b[1;32m   1454\u001b[0m \u001b[38;5;250m    \u001b[39m\u001b[38;5;124;03m\"\"\"\u001b[39;00m\n\u001b[1;32m   1455\u001b[0m \u001b[38;5;124;03m    If the result is a column containing only 'geometry', return a\u001b[39;00m\n\u001b[1;32m   1456\u001b[0m \u001b[38;5;124;03m    GeoSeries. If it's a DataFrame with any columns of GeometryDtype,\u001b[39;00m\n\u001b[1;32m   1457\u001b[0m \u001b[38;5;124;03m    return a GeoDataFrame.\u001b[39;00m\n\u001b[1;32m   1458\u001b[0m \u001b[38;5;124;03m    \"\"\"\u001b[39;00m\n\u001b[0;32m-> 1459\u001b[0m     result \u001b[38;5;241m=\u001b[39m \u001b[38;5;28;43msuper\u001b[39;49m\u001b[43m(\u001b[49m\u001b[43m)\u001b[49m\u001b[38;5;241;43m.\u001b[39;49m\u001b[38;5;21;43m__getitem__\u001b[39;49m\u001b[43m(\u001b[49m\u001b[43mkey\u001b[49m\u001b[43m)\u001b[49m\n\u001b[1;32m   1460\u001b[0m     \u001b[38;5;66;03m# Custom logic to avoid waiting for pandas GH51895\u001b[39;00m\n\u001b[1;32m   1461\u001b[0m     \u001b[38;5;66;03m# result is not geometry dtype for multi-indexes\u001b[39;00m\n\u001b[1;32m   1462\u001b[0m     \u001b[38;5;28;01mif\u001b[39;00m (\n\u001b[1;32m   1463\u001b[0m         pd\u001b[38;5;241m.\u001b[39mapi\u001b[38;5;241m.\u001b[39mtypes\u001b[38;5;241m.\u001b[39mis_scalar(key)\n\u001b[1;32m   1464\u001b[0m         \u001b[38;5;129;01mand\u001b[39;00m key \u001b[38;5;241m==\u001b[39m \u001b[38;5;124m\"\u001b[39m\u001b[38;5;124m\"\u001b[39m\n\u001b[0;32m   (...)\u001b[0m\n\u001b[1;32m   1467\u001b[0m         \u001b[38;5;129;01mand\u001b[39;00m \u001b[38;5;129;01mnot\u001b[39;00m is_geometry_type(result)\n\u001b[1;32m   1468\u001b[0m     ):\n",
      "File \u001b[0;32m~/.local/share/virtualenvs/GSDMA_2024-IfVh60CW/lib/python3.9/site-packages/pandas/core/frame.py:4102\u001b[0m, in \u001b[0;36mDataFrame.__getitem__\u001b[0;34m(self, key)\u001b[0m\n\u001b[1;32m   4100\u001b[0m \u001b[38;5;28;01mif\u001b[39;00m \u001b[38;5;28mself\u001b[39m\u001b[38;5;241m.\u001b[39mcolumns\u001b[38;5;241m.\u001b[39mnlevels \u001b[38;5;241m>\u001b[39m \u001b[38;5;241m1\u001b[39m:\n\u001b[1;32m   4101\u001b[0m     \u001b[38;5;28;01mreturn\u001b[39;00m \u001b[38;5;28mself\u001b[39m\u001b[38;5;241m.\u001b[39m_getitem_multilevel(key)\n\u001b[0;32m-> 4102\u001b[0m indexer \u001b[38;5;241m=\u001b[39m \u001b[38;5;28;43mself\u001b[39;49m\u001b[38;5;241;43m.\u001b[39;49m\u001b[43mcolumns\u001b[49m\u001b[38;5;241;43m.\u001b[39;49m\u001b[43mget_loc\u001b[49m\u001b[43m(\u001b[49m\u001b[43mkey\u001b[49m\u001b[43m)\u001b[49m\n\u001b[1;32m   4103\u001b[0m \u001b[38;5;28;01mif\u001b[39;00m is_integer(indexer):\n\u001b[1;32m   4104\u001b[0m     indexer \u001b[38;5;241m=\u001b[39m [indexer]\n",
      "File \u001b[0;32m~/.local/share/virtualenvs/GSDMA_2024-IfVh60CW/lib/python3.9/site-packages/pandas/core/indexes/base.py:3812\u001b[0m, in \u001b[0;36mIndex.get_loc\u001b[0;34m(self, key)\u001b[0m\n\u001b[1;32m   3807\u001b[0m     \u001b[38;5;28;01mif\u001b[39;00m \u001b[38;5;28misinstance\u001b[39m(casted_key, \u001b[38;5;28mslice\u001b[39m) \u001b[38;5;129;01mor\u001b[39;00m (\n\u001b[1;32m   3808\u001b[0m         \u001b[38;5;28misinstance\u001b[39m(casted_key, abc\u001b[38;5;241m.\u001b[39mIterable)\n\u001b[1;32m   3809\u001b[0m         \u001b[38;5;129;01mand\u001b[39;00m \u001b[38;5;28many\u001b[39m(\u001b[38;5;28misinstance\u001b[39m(x, \u001b[38;5;28mslice\u001b[39m) \u001b[38;5;28;01mfor\u001b[39;00m x \u001b[38;5;129;01min\u001b[39;00m casted_key)\n\u001b[1;32m   3810\u001b[0m     ):\n\u001b[1;32m   3811\u001b[0m         \u001b[38;5;28;01mraise\u001b[39;00m InvalidIndexError(key)\n\u001b[0;32m-> 3812\u001b[0m     \u001b[38;5;28;01mraise\u001b[39;00m \u001b[38;5;167;01mKeyError\u001b[39;00m(key) \u001b[38;5;28;01mfrom\u001b[39;00m \u001b[38;5;21;01merr\u001b[39;00m\n\u001b[1;32m   3813\u001b[0m \u001b[38;5;28;01mexcept\u001b[39;00m \u001b[38;5;167;01mTypeError\u001b[39;00m:\n\u001b[1;32m   3814\u001b[0m     \u001b[38;5;66;03m# If we have a listlike key, _check_indexing_error will raise\u001b[39;00m\n\u001b[1;32m   3815\u001b[0m     \u001b[38;5;66;03m#  InvalidIndexError. Otherwise we fall through and re-raise\u001b[39;00m\n\u001b[1;32m   3816\u001b[0m     \u001b[38;5;66;03m#  the TypeError.\u001b[39;00m\n\u001b[1;32m   3817\u001b[0m     \u001b[38;5;28mself\u001b[39m\u001b[38;5;241m.\u001b[39m_check_indexing_error(key)\n",
      "\u001b[0;31mKeyError\u001b[0m: 1"
     ]
    }
   ],
   "source": [
    "# Def/home/lubuntu/.local/share/jupyter/runtimeine the starting location\n",
    "departure_date=\"2024-11-05\"\n",
    "departure_time=\"08:00:00\"\n",
    "departure_stop_name=\"MONS Lycée\"#\"MONS Place de Flandre\"#\n",
    "arrival_stop_name=\"SOIGNIES Place du Jeu de Balle\"\n",
    "\n",
    "radius = 5000  # For graph creation\n",
    "bus_stop_radius = 3000  # For filtering stops\n",
    "    \n",
    "# Path to GTFS stops.txt file\n",
    "gtfs_stops_file = 'Tec GTFS/stops.txt' # Replace with your GTFS file path\n",
    "    \n",
    "# Get the center point\n",
    "start_point = ox.geocode(departure_stop_name)\n",
    "    # Create a GeoDataFrame for the center point\n",
    "start_gdf = gpd.GeoDataFrame(\n",
    "    {\"geometry\": [Point(start_point[1], start_point[0])]},\n",
    "    crs=\"EPSG:4326\",\n",
    ")\n",
    "# Create the graph\n",
    "graph = ox.graph_from_point(start_point, dist=radius, network_type=\"walk\")\n",
    "print(\"Graph created\")\n",
    "# Filter bus stops within the specified radius\n",
    "filtered_stops = filter_bus_stops(geo_stops, start_gdf, radius=bus_stop_radius)\n",
    "print(\"Bus stops retrieved\")\n",
    "# Calculate shortest paths to bus stops\n",
    "paths = calculate_shortest_paths_to_stops(graph, start_point, filtered_stops)\n",
    "print(\"Shortests paths found\")\n",
    "print(\"Plotting...\")\n",
    "# Plot the star graph\n",
    "star_map = plot_star_graph(graph, start_point, paths, filtered_stops)\n",
    "#star_map.save(\"star_graph_map.html\")\n",
    "star_map"
   ]
  },
  {
   "cell_type": "markdown",
   "id": "6e268457-a69e-4370-b636-ab7301ff6f14",
   "metadata": {},
   "source": [
    "## Shortests bus paths"
   ]
  },
  {
   "cell_type": "code",
   "execution_count": null,
   "id": "dda1e672-2228-45d8-92e7-5bb83b477b92",
   "metadata": {},
   "outputs": [],
   "source": [
    "#Find the bus stops with a given name within \n",
    "geo_stops[geo_stops['stop_name'].str.contains('Kennedy')].iloc[0:10]"
   ]
  },
  {
   "cell_type": "code",
   "execution_count": 64,
   "id": "5d72c007-c852-41a7-a8de-c19680c40f7a",
   "metadata": {},
   "outputs": [
    {
     "name": "stdout",
     "output_type": "stream",
     "text": [
      "First arrival time: 0 days 11:54:26.499277626\n",
      "                                           trip_id              arrival_time  \\\n",
      "5351779          45185014-H_2024-H24_P2-Sem-N-3-11           0 days 08:02:00   \n",
      "5285126          45183811-H_2024-H24_P2-Sem-N-3-11           0 days 08:03:00   \n",
      "5469962  45187153-H_2024-H24_P2-Sem-N-3-11-0100000           0 days 08:06:00   \n",
      "427969              41409940-C2024-choi-Sem-N-3-11           0 days 08:07:00   \n",
      "5356953          45185113-H_2024-H24_P2-Sem-N-3-11           0 days 08:10:00   \n",
      "...                                            ...                       ...   \n",
      "7840                                       walking 0 days 08:06:35.188891152   \n",
      "7841                                       walking 0 days 08:13:33.278670018   \n",
      "7857                                       walking 0 days 08:08:40.302884430   \n",
      "7911                                       walking 0 days 08:14:53.098503636   \n",
      "7912                                       walking 0 days 08:13:10.556527626   \n",
      "\n",
      "                   departure_time   stop_id  stop_sequence pickup_type  \\\n",
      "5351779           0 days 08:02:00  H1ms290a             13           0   \n",
      "5285126           0 days 08:03:00  H1ms290a             60           0   \n",
      "5469962           0 days 08:06:00  H1ms290a             80           0   \n",
      "427969            0 days 08:07:00  H1ms290a             13           0   \n",
      "5356953           0 days 08:10:00  H1ms290a             28           0   \n",
      "...                           ...       ...            ...         ...   \n",
      "7840    0 days 08:06:35.188891152  H1ms914a              1           0   \n",
      "7841    0 days 08:13:33.278670018  H1ms915b              1           0   \n",
      "7857    0 days 08:08:40.302884430  H1ms943a              1           0   \n",
      "7911    0 days 08:14:53.098503636  H1ni322a              1           0   \n",
      "7912    0 days 08:13:10.556527626  H1ni322b              1           0   \n",
      "\n",
      "        drop_off_type          intermediary_stops        final_arrival_time  \\\n",
      "5351779             0  [(H1ms290a, Already here)] 0 days 11:54:26.499277626   \n",
      "5285126             0  [(H1ms290a, Already here)] 0 days 11:54:26.499277626   \n",
      "5469962             0  [(H1ms290a, Already here)] 0 days 11:54:26.499277626   \n",
      "427969              0  [(H1ms290a, Already here)] 0 days 11:54:26.499277626   \n",
      "5356953             0  [(H1ms290a, Already here)] 0 days 11:54:26.499277626   \n",
      "...               ...                         ...                       ...   \n",
      "7840                0       [(H1ms290a, walking)]                       NaT   \n",
      "7841                0       [(H1ms290a, walking)]                       NaT   \n",
      "7857                0       [(H1ms290a, walking)]                       NaT   \n",
      "7911                0       [(H1ms290a, walking)]                       NaT   \n",
      "7912                0       [(H1ms290a, walking)]                       NaT   \n",
      "\n",
      "         number_trips  \n",
      "5351779             0  \n",
      "5285126             0  \n",
      "5469962             0  \n",
      "427969              0  \n",
      "5356953             0  \n",
      "...               ...  \n",
      "7840                0  \n",
      "7841                0  \n",
      "7857                0  \n",
      "7911                0  \n",
      "7912                0  \n",
      "\n",
      "[113 rows x 10 columns]\n"
     ]
    },
    {
     "ename": "KeyError",
     "evalue": "'intermediary_stops'",
     "output_type": "error",
     "traceback": [
      "\u001b[0;31m---------------------------------------------------------------------------\u001b[0m",
      "\u001b[0;31mKeyError\u001b[0m                                  Traceback (most recent call last)",
      "File \u001b[0;32m~/.local/share/virtualenvs/GSDMA_2024-IfVh60CW/lib/python3.9/site-packages/pandas/core/indexes/base.py:3805\u001b[0m, in \u001b[0;36mIndex.get_loc\u001b[0;34m(self, key)\u001b[0m\n\u001b[1;32m   3804\u001b[0m \u001b[38;5;28;01mtry\u001b[39;00m:\n\u001b[0;32m-> 3805\u001b[0m     \u001b[38;5;28;01mreturn\u001b[39;00m \u001b[38;5;28;43mself\u001b[39;49m\u001b[38;5;241;43m.\u001b[39;49m\u001b[43m_engine\u001b[49m\u001b[38;5;241;43m.\u001b[39;49m\u001b[43mget_loc\u001b[49m\u001b[43m(\u001b[49m\u001b[43mcasted_key\u001b[49m\u001b[43m)\u001b[49m\n\u001b[1;32m   3806\u001b[0m \u001b[38;5;28;01mexcept\u001b[39;00m \u001b[38;5;167;01mKeyError\u001b[39;00m \u001b[38;5;28;01mas\u001b[39;00m err:\n",
      "File \u001b[0;32mindex.pyx:167\u001b[0m, in \u001b[0;36mpandas._libs.index.IndexEngine.get_loc\u001b[0;34m()\u001b[0m\n",
      "File \u001b[0;32mindex.pyx:196\u001b[0m, in \u001b[0;36mpandas._libs.index.IndexEngine.get_loc\u001b[0;34m()\u001b[0m\n",
      "File \u001b[0;32mpandas/_libs/hashtable_class_helper.pxi:7081\u001b[0m, in \u001b[0;36mpandas._libs.hashtable.PyObjectHashTable.get_item\u001b[0;34m()\u001b[0m\n",
      "File \u001b[0;32mpandas/_libs/hashtable_class_helper.pxi:7089\u001b[0m, in \u001b[0;36mpandas._libs.hashtable.PyObjectHashTable.get_item\u001b[0;34m()\u001b[0m\n",
      "\u001b[0;31mKeyError\u001b[0m: 'intermediary_stops'",
      "\nThe above exception was the direct cause of the following exception:\n",
      "\u001b[0;31mKeyError\u001b[0m                                  Traceback (most recent call last)",
      "Cell \u001b[0;32mIn[64], line 89\u001b[0m\n\u001b[1;32m     86\u001b[0m new_stop_times\u001b[38;5;241m=\u001b[39mfound_stop_times[found_stop_times[\u001b[38;5;124m'\u001b[39m\u001b[38;5;124mexplored\u001b[39m\u001b[38;5;124m'\u001b[39m]\u001b[38;5;241m==\u001b[39m\u001b[38;5;28;01mFalse\u001b[39;00m]\u001b[38;5;66;03m#The found stops not already explored\u001b[39;00m\n\u001b[1;32m     87\u001b[0m cur_stop_time\u001b[38;5;241m=\u001b[39mnew_stop_times\u001b[38;5;241m.\u001b[39miloc[\u001b[38;5;241m0\u001b[39m:\u001b[38;5;241m1\u001b[39m,:]\n\u001b[0;32m---> 89\u001b[0m other_stops_times, new_best_arrival_time, new_best_path\u001b[38;5;241m=\u001b[39m\u001b[43mexplore_node\u001b[49m\u001b[43m(\u001b[49m\u001b[43mgeo_stops\u001b[49m\u001b[43m,\u001b[49m\u001b[43m \u001b[49m\u001b[43mactive_trips\u001b[49m\u001b[43m,\u001b[49m\u001b[43m \u001b[49m\u001b[43mactive_stop_times\u001b[49m\u001b[43m,\u001b[49m\u001b[43m \u001b[49m\u001b[43mfound_stop_times\u001b[49m\u001b[43m,\u001b[49m\u001b[43m \u001b[49m\u001b[43mbest_arrival_time\u001b[49m\u001b[43m,\u001b[49m\u001b[43m \u001b[49m\u001b[43mbest_path\u001b[49m\u001b[43m,\u001b[49m\u001b[43m \u001b[49m\u001b[43mcur_stop_time\u001b[49m\u001b[43m)\u001b[49m\n\u001b[1;32m     90\u001b[0m other_stops_times[\u001b[38;5;124m'\u001b[39m\u001b[38;5;124mexplored\u001b[39m\u001b[38;5;124m'\u001b[39m]\u001b[38;5;241m=\u001b[39m\u001b[38;5;28;01mFalse\u001b[39;00m\n\u001b[1;32m     91\u001b[0m found_stop_times\u001b[38;5;241m.\u001b[39mloc[cur_stop_time\u001b[38;5;241m.\u001b[39mindex,\u001b[38;5;124m'\u001b[39m\u001b[38;5;124mexplored\u001b[39m\u001b[38;5;124m'\u001b[39m]\u001b[38;5;241m=\u001b[39m\u001b[38;5;28;01mTrue\u001b[39;00m\n",
      "Cell \u001b[0;32mIn[63], line 25\u001b[0m, in \u001b[0;36mexplore_node\u001b[0;34m(geo_stops, active_trips, active_stop_times, found_stop_times, best_arrival_time, best_path, cur_stop_time)\u001b[0m\n\u001b[1;32m     23\u001b[0m     previous_stops\u001b[38;5;241m=\u001b[39mcur_stop_time\u001b[38;5;241m.\u001b[39mloc[:,\u001b[38;5;124m'\u001b[39m\u001b[38;5;124mintermediary_stops\u001b[39m\u001b[38;5;124m'\u001b[39m]\u001b[38;5;241m.\u001b[39miloc[\u001b[38;5;241m0\u001b[39m]\u001b[38;5;241m.\u001b[39mcopy()\u001b[38;5;66;03m#row.intermediary_stops[:]\u001b[39;00m\n\u001b[1;32m     24\u001b[0m     previous_stops\u001b[38;5;241m.\u001b[39mappend((cur_stop_id\u001b[38;5;241m.\u001b[39miloc[\u001b[38;5;241m0\u001b[39m], stop_time[\u001b[38;5;124m'\u001b[39m\u001b[38;5;124mtrip_id\u001b[39m\u001b[38;5;124m'\u001b[39m]))\n\u001b[0;32m---> 25\u001b[0m     \u001b[43mother_stops_times\u001b[49m\u001b[38;5;241;43m.\u001b[39;49m\u001b[43mloc\u001b[49m\u001b[43m[\u001b[49m\u001b[43m:\u001b[49m\u001b[43m,\u001b[49m\u001b[38;5;124;43m'\u001b[39;49m\u001b[38;5;124;43mintermediary_stops\u001b[39;49m\u001b[38;5;124;43m'\u001b[39;49m\u001b[43m]\u001b[49m\u001b[38;5;241m.\u001b[39miloc[i]\u001b[38;5;241m=\u001b[39mprevious_stops\u001b[38;5;66;03m#TODO: also include the trips used (or walking)\u001b[39;00m\n\u001b[1;32m     27\u001b[0m \u001b[38;5;66;03m#Compute the proximity of the stops discovered from the arrival stop\u001b[39;00m\n\u001b[1;32m     28\u001b[0m other_stops\u001b[38;5;241m=\u001b[39mgeo_stops\u001b[38;5;241m.\u001b[39mmerge(other_stops_times\u001b[38;5;241m.\u001b[39mreset_index(), on\u001b[38;5;241m=\u001b[39m\u001b[38;5;124m'\u001b[39m\u001b[38;5;124mstop_id\u001b[39m\u001b[38;5;124m'\u001b[39m,how\u001b[38;5;241m=\u001b[39m\u001b[38;5;124m'\u001b[39m\u001b[38;5;124mright\u001b[39m\u001b[38;5;124m'\u001b[39m, )\n",
      "File \u001b[0;32m~/.local/share/virtualenvs/GSDMA_2024-IfVh60CW/lib/python3.9/site-packages/pandas/core/indexing.py:1184\u001b[0m, in \u001b[0;36m_LocationIndexer.__getitem__\u001b[0;34m(self, key)\u001b[0m\n\u001b[1;32m   1182\u001b[0m     \u001b[38;5;28;01mif\u001b[39;00m \u001b[38;5;28mself\u001b[39m\u001b[38;5;241m.\u001b[39m_is_scalar_access(key):\n\u001b[1;32m   1183\u001b[0m         \u001b[38;5;28;01mreturn\u001b[39;00m \u001b[38;5;28mself\u001b[39m\u001b[38;5;241m.\u001b[39mobj\u001b[38;5;241m.\u001b[39m_get_value(\u001b[38;5;241m*\u001b[39mkey, takeable\u001b[38;5;241m=\u001b[39m\u001b[38;5;28mself\u001b[39m\u001b[38;5;241m.\u001b[39m_takeable)\n\u001b[0;32m-> 1184\u001b[0m     \u001b[38;5;28;01mreturn\u001b[39;00m \u001b[38;5;28;43mself\u001b[39;49m\u001b[38;5;241;43m.\u001b[39;49m\u001b[43m_getitem_tuple\u001b[49m\u001b[43m(\u001b[49m\u001b[43mkey\u001b[49m\u001b[43m)\u001b[49m\n\u001b[1;32m   1185\u001b[0m \u001b[38;5;28;01melse\u001b[39;00m:\n\u001b[1;32m   1186\u001b[0m     \u001b[38;5;66;03m# we by definition only have the 0th axis\u001b[39;00m\n\u001b[1;32m   1187\u001b[0m     axis \u001b[38;5;241m=\u001b[39m \u001b[38;5;28mself\u001b[39m\u001b[38;5;241m.\u001b[39maxis \u001b[38;5;129;01mor\u001b[39;00m \u001b[38;5;241m0\u001b[39m\n",
      "File \u001b[0;32m~/.local/share/virtualenvs/GSDMA_2024-IfVh60CW/lib/python3.9/site-packages/pandas/core/indexing.py:1368\u001b[0m, in \u001b[0;36m_LocIndexer._getitem_tuple\u001b[0;34m(self, tup)\u001b[0m\n\u001b[1;32m   1366\u001b[0m \u001b[38;5;28;01mwith\u001b[39;00m suppress(IndexingError):\n\u001b[1;32m   1367\u001b[0m     tup \u001b[38;5;241m=\u001b[39m \u001b[38;5;28mself\u001b[39m\u001b[38;5;241m.\u001b[39m_expand_ellipsis(tup)\n\u001b[0;32m-> 1368\u001b[0m     \u001b[38;5;28;01mreturn\u001b[39;00m \u001b[38;5;28;43mself\u001b[39;49m\u001b[38;5;241;43m.\u001b[39;49m\u001b[43m_getitem_lowerdim\u001b[49m\u001b[43m(\u001b[49m\u001b[43mtup\u001b[49m\u001b[43m)\u001b[49m\n\u001b[1;32m   1370\u001b[0m \u001b[38;5;66;03m# no multi-index, so validate all of the indexers\u001b[39;00m\n\u001b[1;32m   1371\u001b[0m tup \u001b[38;5;241m=\u001b[39m \u001b[38;5;28mself\u001b[39m\u001b[38;5;241m.\u001b[39m_validate_tuple_indexer(tup)\n",
      "File \u001b[0;32m~/.local/share/virtualenvs/GSDMA_2024-IfVh60CW/lib/python3.9/site-packages/pandas/core/indexing.py:1065\u001b[0m, in \u001b[0;36m_LocationIndexer._getitem_lowerdim\u001b[0;34m(self, tup)\u001b[0m\n\u001b[1;32m   1061\u001b[0m \u001b[38;5;28;01mfor\u001b[39;00m i, key \u001b[38;5;129;01min\u001b[39;00m \u001b[38;5;28menumerate\u001b[39m(tup):\n\u001b[1;32m   1062\u001b[0m     \u001b[38;5;28;01mif\u001b[39;00m is_label_like(key):\n\u001b[1;32m   1063\u001b[0m         \u001b[38;5;66;03m# We don't need to check for tuples here because those are\u001b[39;00m\n\u001b[1;32m   1064\u001b[0m         \u001b[38;5;66;03m#  caught by the _is_nested_tuple_indexer check above.\u001b[39;00m\n\u001b[0;32m-> 1065\u001b[0m         section \u001b[38;5;241m=\u001b[39m \u001b[38;5;28;43mself\u001b[39;49m\u001b[38;5;241;43m.\u001b[39;49m\u001b[43m_getitem_axis\u001b[49m\u001b[43m(\u001b[49m\u001b[43mkey\u001b[49m\u001b[43m,\u001b[49m\u001b[43m \u001b[49m\u001b[43maxis\u001b[49m\u001b[38;5;241;43m=\u001b[39;49m\u001b[43mi\u001b[49m\u001b[43m)\u001b[49m\n\u001b[1;32m   1067\u001b[0m         \u001b[38;5;66;03m# We should never have a scalar section here, because\u001b[39;00m\n\u001b[1;32m   1068\u001b[0m         \u001b[38;5;66;03m#  _getitem_lowerdim is only called after a check for\u001b[39;00m\n\u001b[1;32m   1069\u001b[0m         \u001b[38;5;66;03m#  is_scalar_access, which that would be.\u001b[39;00m\n\u001b[1;32m   1070\u001b[0m         \u001b[38;5;28;01mif\u001b[39;00m section\u001b[38;5;241m.\u001b[39mndim \u001b[38;5;241m==\u001b[39m \u001b[38;5;28mself\u001b[39m\u001b[38;5;241m.\u001b[39mndim:\n\u001b[1;32m   1071\u001b[0m             \u001b[38;5;66;03m# we're in the middle of slicing through a MultiIndex\u001b[39;00m\n\u001b[1;32m   1072\u001b[0m             \u001b[38;5;66;03m# revise the key wrt to `section` by inserting an _NS\u001b[39;00m\n",
      "File \u001b[0;32m~/.local/share/virtualenvs/GSDMA_2024-IfVh60CW/lib/python3.9/site-packages/pandas/core/indexing.py:1431\u001b[0m, in \u001b[0;36m_LocIndexer._getitem_axis\u001b[0;34m(self, key, axis)\u001b[0m\n\u001b[1;32m   1429\u001b[0m \u001b[38;5;66;03m# fall thru to straight lookup\u001b[39;00m\n\u001b[1;32m   1430\u001b[0m \u001b[38;5;28mself\u001b[39m\u001b[38;5;241m.\u001b[39m_validate_key(key, axis)\n\u001b[0;32m-> 1431\u001b[0m \u001b[38;5;28;01mreturn\u001b[39;00m \u001b[38;5;28;43mself\u001b[39;49m\u001b[38;5;241;43m.\u001b[39;49m\u001b[43m_get_label\u001b[49m\u001b[43m(\u001b[49m\u001b[43mkey\u001b[49m\u001b[43m,\u001b[49m\u001b[43m \u001b[49m\u001b[43maxis\u001b[49m\u001b[38;5;241;43m=\u001b[39;49m\u001b[43maxis\u001b[49m\u001b[43m)\u001b[49m\n",
      "File \u001b[0;32m~/.local/share/virtualenvs/GSDMA_2024-IfVh60CW/lib/python3.9/site-packages/pandas/core/indexing.py:1381\u001b[0m, in \u001b[0;36m_LocIndexer._get_label\u001b[0;34m(self, label, axis)\u001b[0m\n\u001b[1;32m   1379\u001b[0m \u001b[38;5;28;01mdef\u001b[39;00m \u001b[38;5;21m_get_label\u001b[39m(\u001b[38;5;28mself\u001b[39m, label, axis: AxisInt):\n\u001b[1;32m   1380\u001b[0m     \u001b[38;5;66;03m# GH#5567 this will fail if the label is not present in the axis.\u001b[39;00m\n\u001b[0;32m-> 1381\u001b[0m     \u001b[38;5;28;01mreturn\u001b[39;00m \u001b[38;5;28;43mself\u001b[39;49m\u001b[38;5;241;43m.\u001b[39;49m\u001b[43mobj\u001b[49m\u001b[38;5;241;43m.\u001b[39;49m\u001b[43mxs\u001b[49m\u001b[43m(\u001b[49m\u001b[43mlabel\u001b[49m\u001b[43m,\u001b[49m\u001b[43m \u001b[49m\u001b[43maxis\u001b[49m\u001b[38;5;241;43m=\u001b[39;49m\u001b[43maxis\u001b[49m\u001b[43m)\u001b[49m\n",
      "File \u001b[0;32m~/.local/share/virtualenvs/GSDMA_2024-IfVh60CW/lib/python3.9/site-packages/pandas/core/generic.py:4287\u001b[0m, in \u001b[0;36mNDFrame.xs\u001b[0;34m(self, key, axis, level, drop_level)\u001b[0m\n\u001b[1;32m   4285\u001b[0m \u001b[38;5;28;01mif\u001b[39;00m axis \u001b[38;5;241m==\u001b[39m \u001b[38;5;241m1\u001b[39m:\n\u001b[1;32m   4286\u001b[0m     \u001b[38;5;28;01mif\u001b[39;00m drop_level:\n\u001b[0;32m-> 4287\u001b[0m         \u001b[38;5;28;01mreturn\u001b[39;00m \u001b[38;5;28;43mself\u001b[39;49m\u001b[43m[\u001b[49m\u001b[43mkey\u001b[49m\u001b[43m]\u001b[49m\n\u001b[1;32m   4288\u001b[0m     index \u001b[38;5;241m=\u001b[39m \u001b[38;5;28mself\u001b[39m\u001b[38;5;241m.\u001b[39mcolumns\n\u001b[1;32m   4289\u001b[0m \u001b[38;5;28;01melse\u001b[39;00m:\n",
      "File \u001b[0;32m~/.local/share/virtualenvs/GSDMA_2024-IfVh60CW/lib/python3.9/site-packages/pandas/core/frame.py:4102\u001b[0m, in \u001b[0;36mDataFrame.__getitem__\u001b[0;34m(self, key)\u001b[0m\n\u001b[1;32m   4100\u001b[0m \u001b[38;5;28;01mif\u001b[39;00m \u001b[38;5;28mself\u001b[39m\u001b[38;5;241m.\u001b[39mcolumns\u001b[38;5;241m.\u001b[39mnlevels \u001b[38;5;241m>\u001b[39m \u001b[38;5;241m1\u001b[39m:\n\u001b[1;32m   4101\u001b[0m     \u001b[38;5;28;01mreturn\u001b[39;00m \u001b[38;5;28mself\u001b[39m\u001b[38;5;241m.\u001b[39m_getitem_multilevel(key)\n\u001b[0;32m-> 4102\u001b[0m indexer \u001b[38;5;241m=\u001b[39m \u001b[38;5;28;43mself\u001b[39;49m\u001b[38;5;241;43m.\u001b[39;49m\u001b[43mcolumns\u001b[49m\u001b[38;5;241;43m.\u001b[39;49m\u001b[43mget_loc\u001b[49m\u001b[43m(\u001b[49m\u001b[43mkey\u001b[49m\u001b[43m)\u001b[49m\n\u001b[1;32m   4103\u001b[0m \u001b[38;5;28;01mif\u001b[39;00m is_integer(indexer):\n\u001b[1;32m   4104\u001b[0m     indexer \u001b[38;5;241m=\u001b[39m [indexer]\n",
      "File \u001b[0;32m~/.local/share/virtualenvs/GSDMA_2024-IfVh60CW/lib/python3.9/site-packages/pandas/core/indexes/base.py:3812\u001b[0m, in \u001b[0;36mIndex.get_loc\u001b[0;34m(self, key)\u001b[0m\n\u001b[1;32m   3807\u001b[0m     \u001b[38;5;28;01mif\u001b[39;00m \u001b[38;5;28misinstance\u001b[39m(casted_key, \u001b[38;5;28mslice\u001b[39m) \u001b[38;5;129;01mor\u001b[39;00m (\n\u001b[1;32m   3808\u001b[0m         \u001b[38;5;28misinstance\u001b[39m(casted_key, abc\u001b[38;5;241m.\u001b[39mIterable)\n\u001b[1;32m   3809\u001b[0m         \u001b[38;5;129;01mand\u001b[39;00m \u001b[38;5;28many\u001b[39m(\u001b[38;5;28misinstance\u001b[39m(x, \u001b[38;5;28mslice\u001b[39m) \u001b[38;5;28;01mfor\u001b[39;00m x \u001b[38;5;129;01min\u001b[39;00m casted_key)\n\u001b[1;32m   3810\u001b[0m     ):\n\u001b[1;32m   3811\u001b[0m         \u001b[38;5;28;01mraise\u001b[39;00m InvalidIndexError(key)\n\u001b[0;32m-> 3812\u001b[0m     \u001b[38;5;28;01mraise\u001b[39;00m \u001b[38;5;167;01mKeyError\u001b[39;00m(key) \u001b[38;5;28;01mfrom\u001b[39;00m \u001b[38;5;21;01merr\u001b[39;00m\n\u001b[1;32m   3813\u001b[0m \u001b[38;5;28;01mexcept\u001b[39;00m \u001b[38;5;167;01mTypeError\u001b[39;00m:\n\u001b[1;32m   3814\u001b[0m     \u001b[38;5;66;03m# If we have a listlike key, _check_indexing_error will raise\u001b[39;00m\n\u001b[1;32m   3815\u001b[0m     \u001b[38;5;66;03m#  InvalidIndexError. Otherwise we fall through and re-raise\u001b[39;00m\n\u001b[1;32m   3816\u001b[0m     \u001b[38;5;66;03m#  the TypeError.\u001b[39;00m\n\u001b[1;32m   3817\u001b[0m     \u001b[38;5;28mself\u001b[39m\u001b[38;5;241m.\u001b[39m_check_indexing_error(key)\n",
      "\u001b[0;31mKeyError\u001b[0m: 'intermediary_stops'"
     ]
    }
   ],
   "source": [
    "walking_range = 1000#The algorithm considers that bus stops closer than that value in meters can be linked by walking\n",
    "\n",
    "start_time = time.time()\n",
    "#Extract the stops and the stop_id's\n",
    "departure_stop=geo_stops.query(\"stop_name==@departure_stop_name\")\n",
    "arrival_stop=geo_stops.query(\"stop_name==@arrival_stop_name\")\n",
    "\n",
    "arrival_stop_id=arrival_stop['stop_id']\n",
    "departure_stop_id=departure_stop['stop_id']\n",
    "\n",
    "#The walking time between the departure and the arrival is computed\n",
    "walk_time=compute_walk_time(departure_stop.to_crs(3812), arrival_stop.to_crs(3812))\n",
    "walk_time=walk_time.mean()\n",
    "\n",
    "departure_time=pd.to_timedelta(departure_time)\n",
    "best_arrival_time=departure_time+walk_time\n",
    "print(f\"First arrival time: {best_arrival_time}\")\n",
    "best_path=[('walking', 'arrival_stop_name')]\n",
    "\n",
    "#Find the schedule of the day\n",
    "week_day=pd.Timestamp(departure_date).day_name().lower()\n",
    "active_services=calendar.query(\"(start_date<=@departure_date)&(@departure_date<=end_date)\")\n",
    "active_services=active_services[active_services[week_day]]\n",
    "active_trips=trips[trips['service_id'].isin(active_services['service_id'])]\n",
    "active_trips_id=active_trips['trip_id']\n",
    "active_stop_times=stop_times[stop_times['trip_id'].isin(active_trips_id)]\n",
    "active_stop_times=active_stop_times[active_stop_times['arrival_time']<best_arrival_time]\n",
    "\n",
    "#Find the stoptimes of the departure stop\n",
    "found_stop_times=active_stop_times[((active_stop_times['stop_id'].isin(departure_stop_id))&\n",
    "                                     (active_stop_times['departure_time']>departure_time)&\n",
    "                                     (active_stop_times['departure_time']<(best_arrival_time))\n",
    "                                     #(active_stop_times[trip_id].isin(active_trips_id))\n",
    "                                      )].sort_values('departure_time')\n",
    "found_stop_times.loc[:, \"intermediary_stops\"] = [[(departure_stop_id.iloc[0],'Already here')]] * len(found_stop_times)\n",
    "found_stop_times['final_arrival_time']=best_arrival_time\n",
    "\n",
    "#Add the stops reachable by foot from the departure point\n",
    "meas_geo_stops=geo_stops.to_crs(3812)\n",
    "walked_stops=meas_geo_stops[meas_geo_stops.within(start_gdf.to_crs(3812).buffer(walking_range).geometry.iloc[0])]\n",
    "walked_stop_times=pd.DataFrame(columns=stop_times.columns)\n",
    "walked_stop_times['stop_id']=walked_stops['stop_id']\n",
    "walked_stop_times['trip_id']='walking'\n",
    "walked_stop_times['arrival_time']=departure_time+compute_walk_time(walked_stops, start_gdf.to_crs(3812).iloc[0].geometry)\n",
    "walked_stop_times['departure_time']=walked_stop_times['arrival_time']\n",
    "walked_stop_times['stop_sequence']=1\n",
    "walked_stop_times['pickup_type']=0\n",
    "walked_stop_times['drop_off_type']=0\n",
    "walked_stop_times.loc[:, \"intermediary_stops\"] = [[(departure_stop_id.iloc[0],'walking')]] * len(walked_stop_times) \n",
    "found_stop_times=pd.concat([found_stop_times,walked_stop_times])\n",
    "\n",
    "found_stop_times['number_trips']=0\n",
    "\n",
    "other_stops_times=find_next_stops(best_arrival_time, active_trips, active_stop_times, departure_stop_id, departure_time)\n",
    "\n",
    "found_stop_times['explored']=True\n",
    "other_stops_times['number_trips']=1\n",
    "other_stops_times.loc[:, \"intermediary_stops\"] = [[departure_stop_id.iloc[0]]] * len(other_stops_times) #other_stops_times['intermediary_stops']=''\n",
    "#TODO: Add other stops within walkable distance\n",
    "other_stops_times=other_stops_times.sort_values('arrival_time').drop_duplicates('stop_id')#We keep only the earliest arrival time to a stop.\n",
    "other_stops_times['explored']=False\n",
    "\n",
    "#Compare the walking time from the new stops\n",
    "other_stops=geo_stops.merge(other_stops_times.reset_index(), on='stop_id',how='right', )\n",
    "new_walk_times=compute_walk_time(other_stops.to_crs(3812), arrival_stop.to_crs(3812).iloc[0].geometry)\n",
    "other_stops['final_arrival_time']=other_stops['arrival_time']+new_walk_times\n",
    "other_stops=other_stops.set_index('index')\n",
    "new_best_arrival_time=other_stops['final_arrival_time'].min()\n",
    "if(new_best_arrival_time<best_arrival_time):\n",
    "    print(f\"New best arrival time: {new_best_arrival_time}\")\n",
    "    best_path=[(departure_stop_id.iloc[0], 'w')]\n",
    "    best_arrival_time=new_best_arrival_time\n",
    "    #Drop the scheduled stops later than the current best arrival time \n",
    "    active_stop_times=active_stop_times[active_stop_times['arrival_time']<best_arrival_time]\n",
    "\n",
    "other_stops_times['final_arrival_time']=other_stops['final_arrival_time']\n",
    "found_stop_times=pd.concat([found_stop_times,other_stops_times])\n",
    "found_stop_times=found_stop_times.sort_values('arrival_time').drop_duplicates('stop_id')#We keep only the earliest arrival time to a stop.\n",
    "found_stop_times=found_stop_times.sort_values('final_arrival_time')\n",
    "\n",
    "new_stop_times=found_stop_times[found_stop_times['explored']==False]#The found stops not already explored\n",
    "\n",
    "\n",
    "while(new_stop_times.size>0):\n",
    "    new_stop_times=found_stop_times[found_stop_times['explored']==False]#The found stops not already explored\n",
    "    cur_stop_time=new_stop_times.iloc[0:1,:]\n",
    "\n",
    "    other_stops_times, new_best_arrival_time, new_best_path=explore_node(geo_stops, active_trips, active_stop_times, found_stop_times, best_arrival_time, best_path, cur_stop_time)\n",
    "    other_stops_times['explored']=False\n",
    "    found_stop_times.loc[cur_stop_time.index,'explored']=True\n",
    "\n",
    "    #Drop the scheduled stops later than the current best arrival time\n",
    "    if(new_best_arrival_time<best_arrival_time):\n",
    "        print(f\"New best arrival time: {new_best_arrival_time}\")\n",
    "        best_arrival_time=new_best_arrival_time\n",
    "        best_path=new_best_path\n",
    "        active_stop_times=active_stop_times[active_stop_times['arrival_time']<best_arrival_time]\n",
    "        found_stop_times=found_stop_times[found_stop_times['arrival_time']<best_arrival_time]\n",
    "\n",
    "    found_stop_times=pd.concat([found_stop_times,other_stops_times])\n",
    "    found_stop_times=found_stop_times.sort_values('arrival_time')\n",
    "    found_stop_times=found_stop_times.drop_duplicates('stop_id')#We keep only the earliest arrival time to a stop.\n",
    "    found_stop_times=found_stop_times.sort_values('final_arrival_time')\n",
    "    new_stop_times=found_stop_times[found_stop_times['explored']==False]#The found stops not already explored\n",
    "    print(f\"{found_stop_times.shape[0]-new_stop_times.shape[0]}/{found_stop_times.shape[0]}\")\n",
    "end_time = time.time()\n",
    "print(f\"Best arrival time:{best_arrival_time}\")\n",
    "print(f\"Best path:{best_path}\")\n",
    "print(f\"It took {end_time-start_time} seconds to compute\")"
   ]
  },
  {
   "cell_type": "code",
   "execution_count": null,
   "id": "2a17f579-ce5b-4600-96a5-5a13f637ebf8",
   "metadata": {},
   "outputs": [],
   "source": [
    "found_stop_times"
   ]
  },
  {
   "cell_type": "code",
   "execution_count": null,
   "id": "9de42f8f-c387-48b8-a18e-d71e01d5bea3",
   "metadata": {},
   "outputs": [],
   "source": [
    "found_stop_times['departure_time']=found_stop_times['departure_time'].apply(lambda x: x.total_seconds())\n",
    "found_stop_times['final_arrival_time']=found_stop_times['final_arrival_time'].apply(lambda x: x.total_seconds())\n",
    "found_stop_times['arrival_time']=found_stop_times['arrival_time'].apply(lambda x: x.total_seconds())"
   ]
  },
  {
   "cell_type": "code",
   "execution_count": null,
   "id": "16d8291f-1756-4a95-979e-b14f8975bd1b",
   "metadata": {},
   "outputs": [],
   "source": [
    "geo_stops.merge(found_stop_times, how='right').sort_values('final_arrival_time').explore(column='final_arrival_time')"
   ]
  }
 ],
 "metadata": {
  "kernelspec": {
   "display_name": "Python 3 (ipykernel)",
   "language": "python",
   "name": "python3"
  },
  "language_info": {
   "codemirror_mode": {
    "name": "ipython",
    "version": 3
   },
   "file_extension": ".py",
   "mimetype": "text/x-python",
   "name": "python",
   "nbconvert_exporter": "python",
   "pygments_lexer": "ipython3",
   "version": "3.9.18"
  }
 },
 "nbformat": 4,
 "nbformat_minor": 5
}
